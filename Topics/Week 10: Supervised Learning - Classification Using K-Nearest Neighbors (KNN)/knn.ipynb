{
 "cells": [
  {
   "cell_type": "markdown",
   "metadata": {},
   "source": [
    "# Week 10: Classification Using K-Nearest Neighbors (KNN)"
   ]
  },
  {
   "cell_type": "markdown",
   "metadata": {},
   "source": [
    "### Section 1\n",
    "## Implementing KNN in Python"
   ]
  },
  {
   "cell_type": "code",
   "execution_count": 1,
   "metadata": {},
   "outputs": [],
   "source": [
    "# Common imports\n",
    "import operator\n",
    "import numpy as np\n",
    "import pandas as pd\n",
    "\n",
    "# to make this notebook's output stable across runs\n",
    "np.random.seed(17)\n",
    "\n",
    "# To plot pretty figures\n",
    "%matplotlib inline\n",
    "import seaborn as sns\n",
    "import matplotlib.pyplot as plt"
   ]
  },
  {
   "cell_type": "code",
   "execution_count": 2,
   "metadata": {},
   "outputs": [
    {
     "data": {
      "text/html": [
       "<div>\n",
       "<style scoped>\n",
       "    .dataframe tbody tr th:only-of-type {\n",
       "        vertical-align: middle;\n",
       "    }\n",
       "\n",
       "    .dataframe tbody tr th {\n",
       "        vertical-align: top;\n",
       "    }\n",
       "\n",
       "    .dataframe thead th {\n",
       "        text-align: right;\n",
       "    }\n",
       "</style>\n",
       "<table border=\"1\" class=\"dataframe\">\n",
       "  <thead>\n",
       "    <tr style=\"text-align: right;\">\n",
       "      <th></th>\n",
       "      <th>x</th>\n",
       "      <th>y</th>\n",
       "      <th>c</th>\n",
       "    </tr>\n",
       "  </thead>\n",
       "  <tbody>\n",
       "    <tr>\n",
       "      <th>0</th>\n",
       "      <td>1</td>\n",
       "      <td>1</td>\n",
       "      <td>A</td>\n",
       "    </tr>\n",
       "    <tr>\n",
       "      <th>1</th>\n",
       "      <td>2</td>\n",
       "      <td>2</td>\n",
       "      <td>A</td>\n",
       "    </tr>\n",
       "    <tr>\n",
       "      <th>2</th>\n",
       "      <td>4</td>\n",
       "      <td>3</td>\n",
       "      <td>B</td>\n",
       "    </tr>\n",
       "    <tr>\n",
       "      <th>3</th>\n",
       "      <td>3</td>\n",
       "      <td>3</td>\n",
       "      <td>A</td>\n",
       "    </tr>\n",
       "    <tr>\n",
       "      <th>4</th>\n",
       "      <td>3</td>\n",
       "      <td>5</td>\n",
       "      <td>B</td>\n",
       "    </tr>\n",
       "    <tr>\n",
       "      <th>5</th>\n",
       "      <td>5</td>\n",
       "      <td>6</td>\n",
       "      <td>B</td>\n",
       "    </tr>\n",
       "    <tr>\n",
       "      <th>6</th>\n",
       "      <td>5</td>\n",
       "      <td>4</td>\n",
       "      <td>B</td>\n",
       "    </tr>\n",
       "  </tbody>\n",
       "</table>\n",
       "</div>"
      ],
      "text/plain": [
       "   x  y  c\n",
       "0  1  1  A\n",
       "1  2  2  A\n",
       "2  4  3  B\n",
       "3  3  3  A\n",
       "4  3  5  B\n",
       "5  5  6  B\n",
       "6  5  4  B"
      ]
     },
     "execution_count": 2,
     "metadata": {},
     "output_type": "execute_result"
    }
   ],
   "source": [
    "url = 'https://raw.githubusercontent.com/JuanEspejo/Machine-Learning/master/Topics/Week%2010%3A%20Supervised%20Learning%20-%20Classification%20Using%20K-Nearest%20Neighbors%20(KNN)/knn.csv'\n",
    "data = pd.read_csv(url)\n",
    "data.sample(random_state=17)\n",
    "data"
   ]
  },
  {
   "cell_type": "markdown",
   "metadata": {},
   "source": [
    "### 1.1 Plotting the Points"
   ]
  },
  {
   "cell_type": "code",
   "execution_count": 3,
   "metadata": {},
   "outputs": [
    {
     "data": {
      "image/png": "[encoded data removed]",
      "text/plain": [
       "<Figure size 402.875x360 with 1 Axes>"
      ]
     },
     "metadata": {
      "needs_background": "light"
     },
     "output_type": "display_data"
    }
   ],
   "source": [
    "sns.lmplot('x', 'y', data=data,\n",
    "    hue='c', palette='Set1',\n",
    "    fit_reg=False, scatter_kws={'s': 70})\n",
    "plt.show()"
   ]
  },
  {
   "cell_type": "markdown",
   "metadata": {},
   "source": [
    "### 1.2 Calculating the Distance Between the Points"
   ]
  },
  {
   "cell_type": "code",
   "execution_count": 4,
   "metadata": {},
   "outputs": [],
   "source": [
    "def l2_norm(p1, p2):\n",
    "    p1 = np.array(p1).reshape(-1,1)\n",
    "    p2 = np.array(p2).reshape(-1,1)\n",
    "    d = p1 - p2\n",
    "    return np.sqrt( d.transpose().dot(d)[0][0] )"
   ]
  },
  {
   "cell_type": "markdown",
   "metadata": {},
   "source": [
    "### 1.3 Implementing KNN"
   ]
  },
  {
   "cell_type": "code",
   "execution_count": 5,
   "metadata": {},
   "outputs": [],
   "source": [
    "#---our own KNN model---\n",
    "def knn(training_points, test_point, k):\n",
    "    distances = {}\n",
    "\n",
    "#     #---the number of axes we are dealing with---\n",
    "#     dimension = test_point.shape[1]\n",
    "\n",
    "    #--calculating euclidean distance between each\n",
    "    # point in the training data and test data\n",
    "    for j in range(len(training_points)):\n",
    "        \n",
    "        dist = l2_norm(test_point, training_points.iloc[j,:-1])\n",
    "\n",
    "        #---record the distance for each training points---\n",
    "        distances[j] = dist\n",
    "\n",
    "    #---sort the distances---\n",
    "    sorted_d = sorted(distances.items(), key=operator.itemgetter(1))\n",
    "        \n",
    "    #---to store the neighbors---\n",
    "    neighbors = []\n",
    "\n",
    "    #---extract the top k neighbors---\n",
    "    for j in range(k):\n",
    "        neighbors.append(sorted_d[j][0])\n",
    "\n",
    "    #---for each neighbor found, find out its class---\n",
    "    class_counter = {}\n",
    "\n",
    "    for j in range(len(neighbors)):\n",
    "\n",
    "        #---find out the class for that particular point---\n",
    "        cls = training_points.iloc[neighbors[j],-1]\n",
    "\n",
    "        if cls in class_counter:\n",
    "            class_counter[cls] += 1\n",
    "        else:\n",
    "            class_counter[cls] = 1\n",
    "\n",
    "    #---sort the class_counter in descending order---\n",
    "    sorted_counter = sorted(class_counter.items(),\n",
    "                            key=operator.itemgetter(1), reverse=True)\n",
    "\n",
    "    #---return the class with the most count, as well as the neighbors found---\n",
    "    return(sorted_counter[0][0], neighbors)"
   ]
  },
  {
   "cell_type": "markdown",
   "metadata": {},
   "source": [
    "### 1.4 Making Predictions"
   ]
  },
  {
   "cell_type": "code",
   "execution_count": 6,
   "metadata": {},
   "outputs": [
    {
     "name": "stdout",
     "output_type": "stream",
     "text": [
      "Predicted Class: B\n"
     ]
    }
   ],
   "source": [
    "#---test point---\n",
    "test_set = [[3,3.9]]\n",
    "test = pd.DataFrame(test_set)\n",
    "cls,neighbors = knn(data, test, 5)\n",
    "print(\"Predicted Class: \" + cls)"
   ]
  },
  {
   "cell_type": "markdown",
   "metadata": {},
   "source": [
    "### 1.5 Visualizing Different Values of K"
   ]
  },
  {
   "cell_type": "code",
   "execution_count": 7,
   "metadata": {},
   "outputs": [
    {
     "name": "stdout",
     "output_type": "stream",
     "text": [
      "============\n",
      "k =  7\n",
      "Class B\n",
      "Neighbors\n",
      "   x  y  c\n",
      "3  3  3  A\n",
      "4  3  5  B\n",
      "2  4  3  B\n",
      "6  5  4  B\n",
      "1  2  2  A\n",
      "5  5  6  B\n",
      "0  1  1  A\n",
      "============\n",
      "k =  5\n",
      "Class B\n",
      "Neighbors\n",
      "   x  y  c\n",
      "3  3  3  A\n",
      "4  3  5  B\n",
      "2  4  3  B\n",
      "6  5  4  B\n",
      "1  2  2  A\n",
      "============\n",
      "k =  3\n",
      "Class B\n",
      "Neighbors\n",
      "   x  y  c\n",
      "3  3  3  A\n",
      "4  3  5  B\n",
      "2  4  3  B\n",
      "============\n",
      "k =  1\n",
      "Class A\n",
      "Neighbors\n",
      "   x  y  c\n",
      "3  3  3  A\n"
     ]
    },
    {
     "data": {
      "image/png": "[encoded data removed]",
      "text/plain": [
       "<Figure size 432x288 with 1 Axes>"
      ]
     },
     "metadata": {
      "needs_background": "light"
     },
     "output_type": "display_data"
    }
   ],
   "source": [
    "#---generate the color map for the scatter plot---\n",
    "#---if column 'c' is A, then use Red, else use Blue---\n",
    "colors = ['r' if i == 'A' else 'b' for i in data['c']]\n",
    "ax = data.plot(kind='scatter', x='x', y='y', c = colors)\n",
    "plt.xlim(0,7)\n",
    "plt.ylim(0,7)\n",
    "\n",
    "#---plot the test point---\n",
    "plt.plot(test_set[0][0],test_set[0][1], \"yo\", markersize='9')\n",
    "\n",
    "for k in range(7,0,-2):\n",
    "    \n",
    "    cls,neighbors = knn(data, test, k)\n",
    "\n",
    "    print(\"============\")\n",
    "    print(\"k = \", k)\n",
    "    print(\"Class\", cls)\n",
    "    print(\"Neighbors\")\n",
    "    print(data.iloc[neighbors])\n",
    "    furthest_point = data.iloc[neighbors].tail(1)\n",
    "\n",
    "    #---draw a circle connecting the test point\n",
    "    # and the furthest point---\n",
    "    radius = l2_norm(test, furthest_point.iloc[0,:-1])\n",
    "\n",
    "    #---display the circle in red if classification is A,\n",
    "    # else display circle in blue---\n",
    "    c = 'r' if cls=='A' else 'b'\n",
    "    circle = plt.Circle((test_set[0][0], test_set[0][1]),\n",
    "                        radius, color=c, alpha=0.3)\n",
    "    ax.add_patch(circle)\n",
    "    plt.gca().set_aspect('equal', adjustable='box')\n",
    "plt.show()"
   ]
  },
  {
   "cell_type": "markdown",
   "metadata": {},
   "source": [
    "## Section 2\n",
    "## Using Scikit-Learn’s KNeighborsClassifier Class for KNN"
   ]
  },
  {
   "cell_type": "code",
   "execution_count": null,
   "metadata": {},
   "outputs": [],
   "source": [
    "from sklearn import datasets\n",
    "\n",
    "iris = datasets.load_iris()\n",
    "X = iris.data[:, :2]  # take the first two features\n",
    "y = iris.target\n",
    "\n",
    "#---plot the points---\n",
    "colors = ['red', 'green', 'blue']\n",
    "for color, i, target in zip(colors, [0, 1, 2], iris.target_names):\n",
    "    plt.scatter(X[y==i, 0], X[y==i, 1], color=color, label=target)\n",
    "\n",
    "plt.xlabel('Sepal length')\n",
    "plt.ylabel('Sepal width')\n",
    "plt.legend(loc='best', shadow=False, scatterpoints=1)\n",
    "plt.title('Scatter plot of Sepal width against Sepal length')\n",
    "plt.show()"
   ]
  },
  {
   "cell_type": "markdown",
   "metadata": {},
   "source": [
    "### 2.1 Exploring Different Values of K"
   ]
  },
  {
   "cell_type": "code",
   "execution_count": null,
   "metadata": {},
   "outputs": [],
   "source": [
    "from sklearn.neighbors import KNeighborsClassifier"
   ]
  },
  {
   "cell_type": "code",
   "execution_count": null,
   "metadata": {},
   "outputs": [],
   "source": [
    "def knn_analysis(X,y,k):\n",
    "    \n",
    "    #---instantiate learning model---\n",
    "    knn = KNeighborsClassifier(n_neighbors=k)\n",
    "\n",
    "    #---fitting the model---\n",
    "    knn.fit(X, y)\n",
    "\n",
    "    #---min and max for the first feature---\n",
    "    x_min, x_max = X[:, 0].min() - 1, X[:, 0].max() + 1\n",
    "\n",
    "    #---min and max for the second feature---\n",
    "    y_min, y_max = X[:, 1].min() - 1, X[:, 1].max() + 1\n",
    "\n",
    "    #---step size in the mesh---\n",
    "    h = (x_max / x_min)/100\n",
    "\n",
    "    #---make predictions for each of the points in xx,yy---\n",
    "    xx, yy = np.meshgrid(np.arange(x_min, x_max, h),\n",
    "                         np.arange(y_min, y_max, h))\n",
    "    Z = knn.predict(np.c_[xx.ravel(), yy.ravel()])\n",
    "\n",
    "    #---draw the result using a color plot---\n",
    "    Z = Z.reshape(xx.shape)\n",
    "    plt.contourf(xx, yy, Z, cmap=plt.cm.Accent, alpha=0.8)\n",
    "\n",
    "    #---plot the training points---\n",
    "    colors = ['red', 'green', 'blue']\n",
    "    for color, i, target in zip(colors, [0, 1, 2], iris.target_names):\n",
    "        plt.scatter(X[y==i, 0], X[y==i, 1], color=color, label=target)\n",
    "\n",
    "    plt.xlabel('Sepal length')\n",
    "    plt.ylabel('Sepal width')\n",
    "    plt.title(f'KNN (k={k})')\n",
    "    plt.legend(loc='best', shadow=False, scatterpoints=1)\n",
    "\n",
    "#     predictions = knn.predict(X)\n",
    "\n",
    "#     #--classifications based on predictions---\n",
    "#     print(np.unique(predictions, return_counts=True))"
   ]
  },
  {
   "cell_type": "code",
   "execution_count": null,
   "metadata": {},
   "outputs": [],
   "source": [
    "knn_analysis(X,y,1)"
   ]
  },
  {
   "cell_type": "code",
   "execution_count": null,
   "metadata": {},
   "outputs": [],
   "source": [
    "#---min and max for the first feature---\n",
    "x_min, x_max = X[:, 0].min() - 1, X[:, 0].max() + 1\n",
    "\n",
    "#---min and max for the second feature---\n",
    "y_min, y_max = X[:, 1].min() - 1, X[:, 1].max() + 1\n",
    "\n",
    "#---step size in the mesh---\n",
    "h = (x_max / x_min)/100\n",
    "\n",
    "#---make predictions for each of the points in xx,yy---\n",
    "xx, yy = np.meshgrid(np.arange(x_min, x_max, h),\n",
    "                     np.arange(y_min, y_max, h))\n",
    "\n",
    "colors = ['red', 'green', 'blue']"
   ]
  },
  {
   "cell_type": "code",
   "execution_count": null,
   "metadata": {},
   "outputs": [],
   "source": [
    "fig, axes = plt.subplots(nrows=2, ncols=2, figsize=(16,7), sharey=True)\n",
    "\n",
    "    \n",
    "plt.sca(axes[0][0])\n",
    "\n",
    "knn = KNeighborsClassifier(n_neighbors=3)\n",
    "knn.fit(X, y)\n",
    "Z = knn.predict(np.c_[xx.ravel(), yy.ravel()])\n",
    "Z = Z.reshape(xx.shape)\n",
    "plt.contourf(xx, yy, Z, cmap=plt.cm.Accent, alpha=0.8)\n",
    "#---plot the training points---\n",
    "for color, i, target in zip(colors, [0, 1, 2], iris.target_names):\n",
    "        plt.scatter(X[y==i, 0], X[y==i, 1], color=color, label=target)\n",
    "plt.ylabel('Sepal width')\n",
    "plt.title(f'KNN (k=3)')\n",
    "plt.legend(loc='best', shadow=False, scatterpoints=1)\n",
    "\n",
    "\n",
    "plt.sca(axes[0][1])\n",
    "\n",
    "knn = KNeighborsClassifier(n_neighbors=7)\n",
    "knn.fit(X, y)\n",
    "Z = knn.predict(np.c_[xx.ravel(), yy.ravel()])\n",
    "Z = Z.reshape(xx.shape)\n",
    "plt.contourf(xx, yy, Z, cmap=plt.cm.Accent, alpha=0.8)\n",
    "#---plot the training points---\n",
    "for color, i, target in zip(colors, [0, 1, 2], iris.target_names):\n",
    "        plt.scatter(X[y==i, 0], X[y==i, 1], color=color, label=target)\n",
    "plt.title(f'KNN (k=7)')\n",
    "plt.legend(loc='best', shadow=False, scatterpoints=1)\n",
    "\n",
    "\n",
    "plt.sca(axes[1][0])\n",
    "\n",
    "knn = KNeighborsClassifier(n_neighbors=49)\n",
    "knn.fit(X, y)\n",
    "Z = knn.predict(np.c_[xx.ravel(), yy.ravel()])\n",
    "Z = Z.reshape(xx.shape)\n",
    "plt.contourf(xx, yy, Z, cmap=plt.cm.Accent, alpha=0.8)\n",
    "#---plot the training points---\n",
    "for color, i, target in zip(colors, [0, 1, 2], iris.target_names):\n",
    "        plt.scatter(X[y==i, 0], X[y==i, 1], color=color, label=target)\n",
    "plt.xlabel('Sepal length')\n",
    "plt.ylabel('Sepal width')\n",
    "plt.title(f'KNN (k=49)')\n",
    "plt.legend(loc='best', shadow=False, scatterpoints=1)\n",
    "\n",
    "\n",
    "plt.sca(axes[1][1])\n",
    "\n",
    "knn = KNeighborsClassifier(n_neighbors=99)\n",
    "knn.fit(X, y)\n",
    "Z = knn.predict(np.c_[xx.ravel(), yy.ravel()])\n",
    "Z = Z.reshape(xx.shape)\n",
    "plt.contourf(xx, yy, Z, cmap=plt.cm.Accent, alpha=0.8)\n",
    "#---plot the training points---\n",
    "for color, i, target in zip(colors, [0, 1, 2], iris.target_names):\n",
    "        plt.scatter(X[y==i, 0], X[y==i, 1], color=color, label=target)\n",
    "plt.xlabel('Sepal length')\n",
    "plt.title(f'KNN (k=99)')\n",
    "plt.legend(loc='best', shadow=False, scatterpoints=1)"
   ]
  },
  {
   "cell_type": "markdown",
   "metadata": {},
   "source": [
    "### 2.2 Parameter-Tuning K"
   ]
  },
  {
   "cell_type": "code",
   "execution_count": null,
   "metadata": {},
   "outputs": [],
   "source": [
    "from sklearn.model_selection import cross_val_score"
   ]
  },
  {
   "cell_type": "code",
   "execution_count": null,
   "metadata": {},
   "outputs": [],
   "source": [
    "#---holds the cv (cross-validates) scores---\n",
    "cv_scores = []\n",
    "\n",
    "#---use all features---\n",
    "X = iris.data[:, :4]\n",
    "y = iris.target\n",
    "\n",
    "#---number of folds---\n",
    "folds = 10\n",
    "\n",
    "#---creating odd list of K for KNN---\n",
    "ks = list(range(1,int(len(X) * ((folds - 1)/folds))))\n",
    "\n",
    "#---remove all multiples of 3---\n",
    "ks = [k for k in ks if k % 3 != 0]\n",
    "\n",
    "#---perform k-fold cross validation---\n",
    "for k in ks:\n",
    "    knn = KNeighborsClassifier(n_neighbors=k)\n",
    "\n",
    "    #---performs cross-validation and returns the average accuracy---\n",
    "    scores = cross_val_score(knn, X, y, cv=folds, scoring='accuracy')\n",
    "    mean = scores.mean()\n",
    "    cv_scores.append(mean)\n",
    "    if k%20 == 0:\n",
    "        print(k, mean)"
   ]
  },
  {
   "cell_type": "markdown",
   "metadata": {},
   "source": [
    "### 2.3 Finding the Optimal K "
   ]
  },
  {
   "cell_type": "code",
   "execution_count": null,
   "metadata": {},
   "outputs": [],
   "source": [
    "#---calculate misclassification error for each k---\n",
    "MSE = [1 - x for x in cv_scores]\n",
    "\n",
    "#---determining best k (min. MSE)---\n",
    "optimal_k = ks[MSE.index(min(MSE))]\n",
    "print(f\"The optimal number of neighbors is {optimal_k}\")\n",
    "\n",
    "#---plot misclassification error vs k---\n",
    "plt.plot(ks, MSE)\n",
    "plt.xlabel('Number of Neighbors K')\n",
    "plt.ylabel('Misclassification Error')\n",
    "plt.show()"
   ]
  },
  {
   "cell_type": "code",
   "execution_count": null,
   "metadata": {},
   "outputs": [],
   "source": [
    "X = iris.data[:, :2]  # take the first two features\n",
    "y = iris.target\n",
    "knn_analysis(X,y,13)"
   ]
  }
 ],
 "metadata": {
  "kernelspec": {
   "display_name": "Python 3",
   "language": "python",
   "name": "python3"
  },
  "language_info": {
   "codemirror_mode": {
    "name": "ipython",
    "version": 3
   },
   "file_extension": ".py",
   "mimetype": "text/x-python",
   "name": "python",
   "nbconvert_exporter": "python",
   "pygments_lexer": "ipython3",
   "version": "3.7.3"
  }
 },
 "nbformat": 4,
 "nbformat_minor": 2
}
