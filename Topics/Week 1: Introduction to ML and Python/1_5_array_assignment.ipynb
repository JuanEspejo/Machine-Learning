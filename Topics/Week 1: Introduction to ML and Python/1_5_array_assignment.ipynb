{
 "cells": [
  {
   "cell_type": "code",
   "execution_count": 9,
   "metadata": {},
   "outputs": [
    {
     "name": "stdout",
     "output_type": "stream",
     "text": [
      "A:\n",
      " [[1 2 3 4]\n",
      " [5 6 7 8]]\n",
      "\n",
      "B:\n",
      " [[1 2 3 4]\n",
      " [5 6 7 8]]\n",
      "\n",
      "A:\n",
      " [[33  2  3  4]\n",
      " [ 5  6  7  8]]\n",
      "\n",
      "B:\n",
      " [[33  2  3  4]\n",
      " [ 5  6  7  8]]\n",
      "\n",
      "A:\n",
      " [[33  2  3  4  5  6  7  8]]\n",
      "\n",
      "B:\n",
      " [[33  2  3  4  5  6  7  8]]\n"
     ]
    }
   ],
   "source": [
    "# copying by reference\n",
    "\n",
    "import numpy as np\n",
    "\n",
    "list = [[1,2,3,4], [5,6,7,8]]\n",
    "\n",
    "A = np.array(list)\n",
    "B = A # creates a copy of A by reference\n",
    "\n",
    "print(\"A:\\n\", A)\n",
    "print(\"\\nB:\\n\", B)\n",
    "\n",
    "# B is actually pointing to the original A. \n",
    "# So, any changes made to either array will affect the other\n",
    "\n",
    "B[0][0] = 33\n",
    "print(\"\\nA:\\n\", A)\n",
    "print(\"\\nB:\\n\", B)\n",
    "\n",
    "A.shape = 1,-1 # reshape A\n",
    "print(\"\\nA:\\n\", A)\n",
    "print(\"\\nB:\\n\", B)"
   ]
  },
  {
   "cell_type": "code",
   "execution_count": 13,
   "metadata": {},
   "outputs": [
    {
     "name": "stdout",
     "output_type": "stream",
     "text": [
      "A:\n",
      " [[1 2 3 4]\n",
      " [5 6 7 8]]\n",
      "\n",
      "B:\n",
      " [[1 2 3 4]\n",
      " [5 6 7 8]]\n",
      "\n",
      "A:\n",
      " [[33  2  3  4]\n",
      " [ 5  6  7  8]]\n",
      "\n",
      "B:\n",
      " [[33  2  3  4]\n",
      " [ 5  6  7  8]]\n",
      "\n",
      "A:\n",
      " [[33  2  3  4  5  6  7  8]]\n",
      "\n",
      "B:\n",
      " [[33  2  3  4]\n",
      " [ 5  6  7  8]]\n"
     ]
    }
   ],
   "source": [
    "# Copying by View (Shallow Copy)\n",
    "\n",
    "A = np.array(list)\n",
    "B = A.view() # creates a copy of A by reference, but changes in dimension in A will not affect B\n",
    "\n",
    "print(\"A:\\n\", A)\n",
    "print(\"\\nB:\\n\", B)\n",
    "\n",
    "# As usual, modify a value in A and we will see the changes in B:\n",
    "A[0][0] = 33\n",
    "print(\"\\nA:\\n\", A)\n",
    "print(\"\\nB:\\n\", B)\n",
    "\n",
    "# But with shallow copying, when we change the shape of A,\n",
    "# B is unaffected:\n",
    "A.shape = 1,-1 # reshape A\n",
    "print(\"\\nA:\\n\", A)\n",
    "print(\"\\nB:\\n\", B)"
   ]
  },
  {
   "cell_type": "code",
   "execution_count": 14,
   "metadata": {},
   "outputs": [
    {
     "name": "stdout",
     "output_type": "stream",
     "text": [
      "A:\n",
      " [[1 2 3 4]\n",
      " [5 6 7 8]]\n",
      "\n",
      "B:\n",
      " [[1 2 3 4]\n",
      " [5 6 7 8]]\n",
      "\n",
      "A:\n",
      " [[33  2  3  4]\n",
      " [ 5  6  7  8]]\n",
      "\n",
      "B:\n",
      " [[1 2 3 4]\n",
      " [5 6 7 8]]\n",
      "\n",
      "A:\n",
      " [[33  2  3  4  5  6  7  8]]\n",
      "\n",
      "B:\n",
      " [[1 2 3 4]\n",
      " [5 6 7 8]]\n"
     ]
    }
   ],
   "source": [
    "# Copying by Value (Deep Copy)\n",
    "\n",
    "A = np.array(list)\n",
    "B = A.copy() # creates a copy of A by value (deep copy)\n",
    "\n",
    "print(\"A:\\n\", A)\n",
    "print(\"\\nB:\\n\", B)\n",
    "\n",
    "# any changes made to the shape of the original array will not affect its copy:\n",
    "A[0][0] = 33\n",
    "print(\"\\nA:\\n\", A)\n",
    "print(\"\\nB:\\n\", B)\n",
    "\n",
    "A.shape = 1,-1 # reshape A\n",
    "print(\"\\nA:\\n\", A)\n",
    "print(\"\\nB:\\n\", B)"
   ]
  }
 ],
 "metadata": {
  "kernelspec": {
   "display_name": "Python 3",
   "language": "python",
   "name": "python3"
  },
  "language_info": {
   "codemirror_mode": {
    "name": "ipython",
    "version": 3
   },
   "file_extension": ".py",
   "mimetype": "text/x-python",
   "name": "python",
   "nbconvert_exporter": "python",
   "pygments_lexer": "ipython3",
   "version": "3.7.3"
  }
 },
 "nbformat": 4,
 "nbformat_minor": 2
}
