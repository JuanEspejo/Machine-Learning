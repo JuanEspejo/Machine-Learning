{
 "cells": [
  {
   "cell_type": "code",
   "execution_count": 1,
   "metadata": {},
   "outputs": [
    {
     "name": "stdout",
     "output_type": "stream",
     "text": [
      "1\n",
      "2\n"
     ]
    }
   ],
   "source": [
    "import numpy as np\n",
    "\n",
    "list1 = [1,2,3,4,5]\n",
    "a1 = np.array(list1)\n",
    "print(a1[0])\n",
    "print(a1[1])"
   ]
  },
  {
   "cell_type": "code",
   "execution_count": 12,
   "metadata": {},
   "outputs": [
    {
     "name": "stdout",
     "output_type": "stream",
     "text": [
      "[[1 2 3 4 5]\n",
      " [6 7 8 9 0]]\n",
      "(2, 5)\n",
      "1\n",
      "9\n"
     ]
    }
   ],
   "source": [
    "list2 = [6,7,8,9,0]\n",
    "a2 = np.array([list1,list2])\n",
    "print(a2)\n",
    "print(a2.shape)\n",
    "print(a2[0,0])\n",
    "print(a2[1,3])"
   ]
  },
  {
   "cell_type": "code",
   "execution_count": 8,
   "metadata": {},
   "outputs": [
    {
     "name": "stdout",
     "output_type": "stream",
     "text": [
      "[2 4]\n"
     ]
    }
   ],
   "source": [
    "print(a1[ [1,3] ])  # we can also use a list as the index"
   ]
  },
  {
   "cell_type": "code",
   "execution_count": 10,
   "metadata": {},
   "outputs": [
    {
     "name": "stdout",
     "output_type": "stream",
     "text": [
      "[False False  True  True  True]\n",
      "[3 4 5]\n"
     ]
    }
   ],
   "source": [
    "print(a1 > 2)\n",
    "print(a1[a1 > 2])  # Boolean indexing"
   ]
  },
  {
   "cell_type": "code",
   "execution_count": 11,
   "metadata": {},
   "outputs": [
    {
     "name": "stdout",
     "output_type": "stream",
     "text": [
      "[ 1  3  5  7  9 11 13 15 17 19]\n"
     ]
    }
   ],
   "source": [
    "nums = np.arange(20)\n",
    "odd_nums = nums[nums % 2 == 1]\n",
    "print(odd_nums)"
   ]
  },
  {
   "cell_type": "code",
   "execution_count": 46,
   "metadata": {},
   "outputs": [
    {
     "name": "stdout",
     "output_type": "stream",
     "text": [
      "[[8]\n",
      " [7]]\n",
      "[[6 7 8]\n",
      " [9 8 7]]\n",
      "[[8 9 0]\n",
      " [7 6 5]]\n"
     ]
    }
   ],
   "source": [
    "# slicing arrays\n",
    "\n",
    "a = np.array([[1,2,3,4,5],\n",
    "              [6,7,8,9,0],\n",
    "              [9,8,7,6,5]])\n",
    "b = a[1:3, 2:3] # row 1 to 3 (not inclusive) and column 0 to 3 (not inclusive)\n",
    "print(b)\n",
    "b = a[1:3, :3]  # row 1 to 3 (not inclusive) and column 0 to 3 (not inclusive)\n",
    "print(b)\n",
    "b = a[-2:, -3:]  # row -2 to 0 (not inclusive) and column -2 to 0 (not inclusive) \n",
    "print(b)"
   ]
  },
  {
   "cell_type": "code",
   "execution_count": 48,
   "metadata": {},
   "outputs": [
    {
     "name": "stdout",
     "output_type": "stream",
     "text": [
      "[[8 9 0]\n",
      " [7 6 5]]\n",
      "[[ 1  2  3  4  5]\n",
      " [ 6  7  8 99  0]\n",
      " [ 9  8  7  6  5]]\n"
     ]
    }
   ],
   "source": [
    "# NumPy slice is a reference\n",
    "\n",
    "reference = a[1:, 2:] # reference is pointing to a subset of a\n",
    "print(reference)\n",
    "reference[0,1] = 99\n",
    "print(a)"
   ]
  },
  {
   "cell_type": "code",
   "execution_count": 50,
   "metadata": {},
   "outputs": [
    {
     "name": "stdout",
     "output_type": "stream",
     "text": [
      "[[9 8 7 6 5]]\n",
      "(1, 5)\n",
      "[9 8 7 6 5]\n",
      "(5,)\n"
     ]
    }
   ],
   "source": [
    "ref = a[2:, :] # ref is a rank 2 array\n",
    "print(ref)\n",
    "print(ref.shape)\n",
    "ref = a[2, :] # here ref is a rank 1 array\n",
    "print(ref)\n",
    "print(ref.shape)"
   ]
  },
  {
   "cell_type": "code",
   "execution_count": 51,
   "metadata": {},
   "outputs": [
    {
     "name": "stdout",
     "output_type": "stream",
     "text": [
      "[[9 8 7 6 5]]\n",
      "(1, 5)\n"
     ]
    }
   ],
   "source": [
    "ref = ref.reshape(1,-1)\n",
    "# The first 1 indicates that we want to convert it into rank 2 array with 1 row, \n",
    "# and the -1 indicates that we will leave it to the reshape() function \n",
    "# to create the correct number of columns\n",
    "\n",
    "print(ref)\n",
    "print(ref.shape)"
   ]
  },
  {
   "cell_type": "code",
   "execution_count": 52,
   "metadata": {},
   "outputs": [
    {
     "name": "stdout",
     "output_type": "stream",
     "text": [
      "[9 8 7 6 5]\n",
      "(5,)\n"
     ]
    }
   ],
   "source": [
    "ref = ref.reshape(-1,)\n",
    "# The -1 indicates that we let the function decide how many rows to create \n",
    "# as long as the end result is a rank 1 array.\n",
    "\n",
    "print(ref)\n",
    "print(ref.shape)"
   ]
  }
 ],
 "metadata": {
  "kernelspec": {
   "display_name": "Python 3",
   "language": "python",
   "name": "python3"
  },
  "language_info": {
   "codemirror_mode": {
    "name": "ipython",
    "version": 3
   },
   "file_extension": ".py",
   "mimetype": "text/x-python",
   "name": "python",
   "nbconvert_exporter": "python",
   "pygments_lexer": "ipython3",
   "version": "3.7.3"
  }
 },
 "nbformat": 4,
 "nbformat_minor": 2
}
