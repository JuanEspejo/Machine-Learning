{
 "cells": [
  {
   "cell_type": "code",
   "execution_count": 7,
   "metadata": {},
   "outputs": [
    {
     "name": "stdout",
     "output_type": "stream",
     "text": [
      "x:\n",
      " [[1 2]\n",
      " [3 4]]\n",
      "y:\n",
      " [[5 6]\n",
      " [7 8]]\n",
      "\n",
      "sum:\n",
      " [[ 6  8]\n",
      " [10 12]]\n",
      "\n",
      "rest:\n",
      " [[-4 -4]\n",
      " [-4 -4]]\n",
      "\n",
      "product:\n",
      " [[ 5 12]\n",
      " [21 32]]\n",
      "\n",
      "division:\n",
      " [[0.2        0.33333333]\n",
      " [0.42857143 0.5       ]]\n"
     ]
    }
   ],
   "source": [
    "import numpy as np\n",
    "\n",
    "x = np.array([[1,2], [3,4]])\n",
    "y = np.array([[5,6], [7,8]])\n",
    "\n",
    "print(\"x:\\n\", x)\n",
    "print(\"y:\\n\", y)\n",
    "print(\"\\nsum:\\n\", x + y)\n",
    "print(\"\\nrest:\\n\", x - y)\n",
    "print(\"\\nproduct:\\n\", x * y)\n",
    "print(\"\\ndivision:\\n\", x / y)"
   ]
  },
  {
   "cell_type": "code",
   "execution_count": 8,
   "metadata": {},
   "outputs": [
    {
     "name": "stdout",
     "output_type": "stream",
     "text": [
      "[28.88888889 14.51836889 23.046875  ]\n",
      "Overweight:  ['Ann']\n",
      "Underweight:  ['Joe']\n",
      "Healthy:  ['Mark']\n"
     ]
    }
   ],
   "source": [
    "names = np.array(['Ann','Joe','Mark'])\n",
    "heights = np.array([1.5, 1.78, 1.6])\n",
    "weights = np.array([65, 46, 59])\n",
    "\n",
    "bmi = weights / heights**2\n",
    "print(bmi)\n",
    "\n",
    "print(\"Overweight: \", names[bmi>25])\n",
    "print(\"Underweight: \", names[bmi<18.5])\n",
    "print(\"Healthy: \", names[(bmi>=18.5) & (bmi<=25)])"
   ]
  },
  {
   "cell_type": "code",
   "execution_count": 9,
   "metadata": {},
   "outputs": [
    {
     "name": "stdout",
     "output_type": "stream",
     "text": [
      "(x,y) =  14\n"
     ]
    }
   ],
   "source": [
    "x = np.array([2,3])\n",
    "y = np.array([4,2])\n",
    "\n",
    "print(\"(x,y) = \", np.dot(x,y))"
   ]
  },
  {
   "cell_type": "code",
   "execution_count": 16,
   "metadata": {},
   "outputs": [
    {
     "name": "stdout",
     "output_type": "stream",
     "text": [
      "A:\n",
      " [[1 2 3]\n",
      " [2 3 4]]\n",
      "\n",
      "B:\n",
      " [[ 1  2]\n",
      " [ 2  1]\n",
      " [ 2 -1]]\n",
      "\n",
      "AB:\n",
      " [[11  1]\n",
      " [16  3]]\n"
     ]
    }
   ],
   "source": [
    "# matrix multiplication\n",
    "\n",
    "A = np.array([[1,2,3],[2,3,4]])\n",
    "B = np.array([[1,2],[2,1], [2,-1]])\n",
    "\n",
    "print(\"A:\\n\", A)\n",
    "print(\"\\nB:\\n\", B)\n",
    "print(\"\\nAB:\\n\", np.dot(A,B))"
   ]
  },
  {
   "cell_type": "code",
   "execution_count": 22,
   "metadata": {},
   "outputs": [
    {
     "name": "stdout",
     "output_type": "stream",
     "text": [
      "A:\n",
      " [[1 2 3]\n",
      " [4 5 6]\n",
      " [7 8 9]]\n",
      "\n",
      "A.cumsum:\n",
      " [ 1  3  6 10 15 21 28 36 45]\n",
      "\n",
      "A.cumsum(axis = 0):\n",
      " [[ 1  2  3]\n",
      " [ 5  7  9]\n",
      " [12 15 18]]\n",
      "\n",
      "A.cumsum(axis = 1):\n",
      " [[ 1  3  6]\n",
      " [ 4  9 15]\n",
      " [ 7 15 24]]\n"
     ]
    }
   ],
   "source": [
    "# cumulative sumb\n",
    "\n",
    "A = np.array([(1,2,3),(4,5,6), (7,8,9)])\n",
    "print(\"A:\\n\", A)\n",
    "\n",
    "print(\"\\nA.cumsum:\\n\", A.cumsum())\n",
    "print(\"\\nA.cumsum(axis = 0):\\n\", A.cumsum(axis = 0)) # sum over rows for each of the 3 columns\n",
    "print(\"\\nA.cumsum(axis = 1):\\n\", A.cumsum(axis = 1)) # sum over columns for each of the 3 rows"
   ]
  },
  {
   "cell_type": "code",
   "execution_count": 25,
   "metadata": {},
   "outputs": [
    {
     "name": "stdout",
     "output_type": "stream",
     "text": [
      "sorted ages:\n",
      " [ 5 12 13 34 37]\n",
      "\n",
      "ages:\n",
      " [34 12 37  5 13]\n",
      "\n",
      "ages:\n",
      " [ 5 12 13 34 37]\n"
     ]
    }
   ],
   "source": [
    "# NumPy sorting\n",
    "\n",
    "ages = np.array([34,12,37,5,13])\n",
    "\n",
    "sorted_ages = np.sort(ages) # does not modify the original array\n",
    "print(\"sorted ages:\\n\", sorted_ages)\n",
    "print(\"\\nages:\\n\", ages)\n",
    "\n",
    "ages.sort() # modifies the array\n",
    "print(\"\\nages:\\n\", ages) "
   ]
  },
  {
   "cell_type": "code",
   "execution_count": 35,
   "metadata": {},
   "outputs": [
    {
     "name": "stdout",
     "output_type": "stream",
     "text": [
      "indices:\n",
      " [3 1 4 0 2]\n",
      "\n",
      "ages[indices]:\n",
      " [ 5 12 13 34 37]\n",
      "\n",
      "sort by age:\n",
      "\n",
      "['Will' 'Mary' 'Joe' 'Johnny' 'Peter']\n",
      "[ 5 12 13 34 37]\n",
      "[0.5  1.2  1.25 1.76 1.68]\n",
      "\n",
      "sort by name:\n",
      "\n",
      "['Joe' 'Johnny' 'Mary' 'Peter' 'Will']\n",
      "[13 34 12 37  5]\n",
      "[1.25 1.76 1.2  1.68 0.5 ]\n",
      "\n",
      "reversed sort by name:\n",
      "\n",
      "['Will' 'Peter' 'Mary' 'Johnny' 'Joe']\n",
      "[ 5 37 12 34 13]\n",
      "[0.5  1.68 1.2  1.76 1.25]\n"
     ]
    }
   ],
   "source": [
    "# argsort()\n",
    "\n",
    "ages = np.array([34,12,37,5,13])\n",
    "indices = ages.argsort()\n",
    "\n",
    "print(\"indices:\\n\", indices)\n",
    "print(\"\\nages[indices]:\\n\", ages[indices])\n",
    "\n",
    "# application\n",
    "\n",
    "persons = np.array(['Johnny','Mary','Peter','Will','Joe'])\n",
    "ages    = np.array([34,12,37,5,13])\n",
    "heights = np.array([1.76,1.2,1.68,0.5,1.25])\n",
    "\n",
    "print(\"\\nsort by age:\\n\")\n",
    "sort_indices = np.argsort(ages)\n",
    "print(persons[sort_indices])\n",
    "print(ages[sort_indices])\n",
    "print(heights[sort_indices])\n",
    "\n",
    "print(\"\\nsort by name:\\n\")\n",
    "sort_indices = np.argsort(persons)\n",
    "print(persons[sort_indices])\n",
    "print(ages[sort_indices])\n",
    "print(heights[sort_indices])\n",
    "\n",
    "print(\"\\nreversed sort by name:\\n\")\n",
    "reverse_sort_indices = np.argsort(persons)[::-1] # reverse the order of a list\n",
    "print(persons[reverse_sort_indices])\n",
    "print(ages[reverse_sort_indices])\n",
    "print(heights[reverse_sort_indices])"
   ]
  }
 ],
 "metadata": {
  "kernelspec": {
   "display_name": "Python 3",
   "language": "python",
   "name": "python3"
  },
  "language_info": {
   "codemirror_mode": {
    "name": "ipython",
    "version": 3
   },
   "file_extension": ".py",
   "mimetype": "text/x-python",
   "name": "python",
   "nbconvert_exporter": "python",
   "pygments_lexer": "ipython3",
   "version": "3.7.3"
  }
 },
 "nbformat": 4,
 "nbformat_minor": 2
}
