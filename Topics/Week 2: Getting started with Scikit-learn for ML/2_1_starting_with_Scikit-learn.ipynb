{
 "cells": [
  {
   "cell_type": "code",
   "execution_count": 1,
   "metadata": {},
   "outputs": [],
   "source": [
    "# using Scikit-learn dataset\n",
    "\n",
    "from sklearn import datasets\n",
    "\n",
    "# iris = datasets.load_iris() # raw data of type Bunch\n",
    "# print(iris.DESCR) # printing a description of the Bunch object\n",
    "# print(iris.data) # printing features\n",
    "# print(iris.feature_names) # printing names of the features\n",
    "# print(iris.target) # labels\n",
    "# print(iris.target_names) # label names  \n",
    "# import pandas as pd\n",
    "# df = pd.DataFrame(iris.data) # convert features to dataframe in Pandas\n",
    "# print(df.head())\n",
    "# print(df.tail())\n",
    "# print(df.tail(3))\n",
    "# # not all Scikit-learn datasets support the feature_names and target_names properties\n",
    "\n",
    "# cancer = datasets.load_breast_cancer() # raw data of type Bunch\n",
    "# print(cancer.DESCR) # printing a description of the Bunch object\n",
    "# print(cancer.data) # printing features\n",
    "# print(cancer.feature_names) # printing names of the features\n",
    "# print(cancer.target) # labels\n",
    "# print(cancer.target_names) # label names  \n",
    "# import pandas as pd\n",
    "# df = pd.DataFrame(cancer.data) # convert features to dataframe in Pandas\n",
    "# print(df.head())"
   ]
  },
  {
   "cell_type": "code",
   "execution_count": 2,
   "metadata": {},
   "outputs": [
    {
     "name": "stdout",
     "output_type": "stream",
     "text": [
      "   QUARTER  MONTH  DAY_OF_MONTH  DAY_OF_WEEK     FL_DATE UNIQUE_CARRIER  \\\n",
      "0        1      1             3            7  2016-01-03             F9   \n",
      "1        1      1             3            7  2016-01-03             F9   \n",
      "2        1      1             3            7  2016-01-03             F9   \n",
      "3        1      1             3            7  2016-01-03             F9   \n",
      "4        1      1             3            7  2016-01-03             F9   \n",
      "\n",
      "   FL_NUM  ORIGIN_AIRPORT_ID  ORIGIN_AIRPORT_SEQ_ID  ORIGIN_CITY_MARKET_ID  \\\n",
      "0     694              11292                1129202                  30325   \n",
      "1     809              14027                1402702                  34027   \n",
      "2     907              15356                1535602                  35356   \n",
      "3     908              14492                1449202                  34492   \n",
      "4     915              15356                1535602                  35356   \n",
      "\n",
      "   ... AIR_TIME FLIGHTS DISTANCE CARRIER_DELAY  WEATHER_DELAY  NAS_DELAY  \\\n",
      "0  ...     87.0     1.0    692.0           NaN            NaN        NaN   \n",
      "1  ...    224.0     1.0   1679.0          19.0            0.0        0.0   \n",
      "2  ...     60.0     1.0    373.0           NaN            NaN        NaN   \n",
      "3  ...     57.0     1.0    373.0           NaN            NaN        NaN   \n",
      "4  ...    107.0     1.0    693.0           2.0            0.0       18.0   \n",
      "\n",
      "   SECURITY_DELAY LATE_AIRCRAFT_DELAY FIRST_DEP_TIME Unnamed: 42  \n",
      "0             NaN                 NaN            NaN         NaN  \n",
      "1             0.0                 0.0            NaN         NaN  \n",
      "2             NaN                 NaN            NaN         NaN  \n",
      "3             NaN                 NaN            NaN         NaN  \n",
      "4             0.0                 0.0            NaN         NaN  \n",
      "\n",
      "[5 rows x 43 columns]\n"
     ]
    }
   ],
   "source": [
    "# using Kaggle dataset\n",
    "\n",
    "import pandas as pd\n",
    "\n",
    "df = pd.read_csv('/home/juanca/Downloads/flight_data.csv')\n",
    "\n",
    "print(df.head())"
   ]
  },
  {
   "cell_type": "code",
   "execution_count": 3,
   "metadata": {},
   "outputs": [
    {
     "ename": "FileNotFoundError",
     "evalue": "[Errno 2] File b'/home/juanca/Downloads/student/student-por.csv' does not exist: b'/home/juanca/Downloads/student/student-por.csv'",
     "output_type": "error",
     "traceback": [
      "\u001b[0;31m---------------------------------------------------------------------------\u001b[0m",
      "\u001b[0;31mFileNotFoundError\u001b[0m                         Traceback (most recent call last)",
      "\u001b[0;32m<ipython-input-3-98cb1afbecad>\u001b[0m in \u001b[0;36m<module>\u001b[0;34m\u001b[0m\n\u001b[1;32m      4\u001b[0m \u001b[0;34m\u001b[0m\u001b[0m\n\u001b[1;32m      5\u001b[0m \u001b[0;31m# df = pd.read_csv('/home/juanca/Downloads/student/student-mat.csv')\u001b[0m\u001b[0;34m\u001b[0m\u001b[0;34m\u001b[0m\u001b[0;34m\u001b[0m\u001b[0m\n\u001b[0;32m----> 6\u001b[0;31m \u001b[0mdf\u001b[0m \u001b[0;34m=\u001b[0m \u001b[0mpd\u001b[0m\u001b[0;34m.\u001b[0m\u001b[0mread_csv\u001b[0m\u001b[0;34m(\u001b[0m\u001b[0;34m'/home/juanca/Downloads/student/student-por.csv'\u001b[0m\u001b[0;34m)\u001b[0m\u001b[0;34m\u001b[0m\u001b[0;34m\u001b[0m\u001b[0m\n\u001b[0m\u001b[1;32m      7\u001b[0m \u001b[0;34m\u001b[0m\u001b[0m\n\u001b[1;32m      8\u001b[0m \u001b[0mprint\u001b[0m\u001b[0;34m(\u001b[0m\u001b[0mdf\u001b[0m\u001b[0;34m.\u001b[0m\u001b[0mhead\u001b[0m\u001b[0;34m(\u001b[0m\u001b[0;34m)\u001b[0m\u001b[0;34m)\u001b[0m\u001b[0;34m\u001b[0m\u001b[0;34m\u001b[0m\u001b[0m\n",
      "\u001b[0;32m~/anaconda3/lib/python3.7/site-packages/pandas/io/parsers.py\u001b[0m in \u001b[0;36mparser_f\u001b[0;34m(filepath_or_buffer, sep, delimiter, header, names, index_col, usecols, squeeze, prefix, mangle_dupe_cols, dtype, engine, converters, true_values, false_values, skipinitialspace, skiprows, skipfooter, nrows, na_values, keep_default_na, na_filter, verbose, skip_blank_lines, parse_dates, infer_datetime_format, keep_date_col, date_parser, dayfirst, iterator, chunksize, compression, thousands, decimal, lineterminator, quotechar, quoting, doublequote, escapechar, comment, encoding, dialect, tupleize_cols, error_bad_lines, warn_bad_lines, delim_whitespace, low_memory, memory_map, float_precision)\u001b[0m\n\u001b[1;32m    700\u001b[0m                     skip_blank_lines=skip_blank_lines)\n\u001b[1;32m    701\u001b[0m \u001b[0;34m\u001b[0m\u001b[0m\n\u001b[0;32m--> 702\u001b[0;31m         \u001b[0;32mreturn\u001b[0m \u001b[0m_read\u001b[0m\u001b[0;34m(\u001b[0m\u001b[0mfilepath_or_buffer\u001b[0m\u001b[0;34m,\u001b[0m \u001b[0mkwds\u001b[0m\u001b[0;34m)\u001b[0m\u001b[0;34m\u001b[0m\u001b[0;34m\u001b[0m\u001b[0m\n\u001b[0m\u001b[1;32m    703\u001b[0m \u001b[0;34m\u001b[0m\u001b[0m\n\u001b[1;32m    704\u001b[0m     \u001b[0mparser_f\u001b[0m\u001b[0;34m.\u001b[0m\u001b[0m__name__\u001b[0m \u001b[0;34m=\u001b[0m \u001b[0mname\u001b[0m\u001b[0;34m\u001b[0m\u001b[0;34m\u001b[0m\u001b[0m\n",
      "\u001b[0;32m~/anaconda3/lib/python3.7/site-packages/pandas/io/parsers.py\u001b[0m in \u001b[0;36m_read\u001b[0;34m(filepath_or_buffer, kwds)\u001b[0m\n\u001b[1;32m    427\u001b[0m \u001b[0;34m\u001b[0m\u001b[0m\n\u001b[1;32m    428\u001b[0m     \u001b[0;31m# Create the parser.\u001b[0m\u001b[0;34m\u001b[0m\u001b[0;34m\u001b[0m\u001b[0;34m\u001b[0m\u001b[0m\n\u001b[0;32m--> 429\u001b[0;31m     \u001b[0mparser\u001b[0m \u001b[0;34m=\u001b[0m \u001b[0mTextFileReader\u001b[0m\u001b[0;34m(\u001b[0m\u001b[0mfilepath_or_buffer\u001b[0m\u001b[0;34m,\u001b[0m \u001b[0;34m**\u001b[0m\u001b[0mkwds\u001b[0m\u001b[0;34m)\u001b[0m\u001b[0;34m\u001b[0m\u001b[0;34m\u001b[0m\u001b[0m\n\u001b[0m\u001b[1;32m    430\u001b[0m \u001b[0;34m\u001b[0m\u001b[0m\n\u001b[1;32m    431\u001b[0m     \u001b[0;32mif\u001b[0m \u001b[0mchunksize\u001b[0m \u001b[0;32mor\u001b[0m \u001b[0miterator\u001b[0m\u001b[0;34m:\u001b[0m\u001b[0;34m\u001b[0m\u001b[0;34m\u001b[0m\u001b[0m\n",
      "\u001b[0;32m~/anaconda3/lib/python3.7/site-packages/pandas/io/parsers.py\u001b[0m in \u001b[0;36m__init__\u001b[0;34m(self, f, engine, **kwds)\u001b[0m\n\u001b[1;32m    893\u001b[0m             \u001b[0mself\u001b[0m\u001b[0;34m.\u001b[0m\u001b[0moptions\u001b[0m\u001b[0;34m[\u001b[0m\u001b[0;34m'has_index_names'\u001b[0m\u001b[0;34m]\u001b[0m \u001b[0;34m=\u001b[0m \u001b[0mkwds\u001b[0m\u001b[0;34m[\u001b[0m\u001b[0;34m'has_index_names'\u001b[0m\u001b[0;34m]\u001b[0m\u001b[0;34m\u001b[0m\u001b[0;34m\u001b[0m\u001b[0m\n\u001b[1;32m    894\u001b[0m \u001b[0;34m\u001b[0m\u001b[0m\n\u001b[0;32m--> 895\u001b[0;31m         \u001b[0mself\u001b[0m\u001b[0;34m.\u001b[0m\u001b[0m_make_engine\u001b[0m\u001b[0;34m(\u001b[0m\u001b[0mself\u001b[0m\u001b[0;34m.\u001b[0m\u001b[0mengine\u001b[0m\u001b[0;34m)\u001b[0m\u001b[0;34m\u001b[0m\u001b[0;34m\u001b[0m\u001b[0m\n\u001b[0m\u001b[1;32m    896\u001b[0m \u001b[0;34m\u001b[0m\u001b[0m\n\u001b[1;32m    897\u001b[0m     \u001b[0;32mdef\u001b[0m \u001b[0mclose\u001b[0m\u001b[0;34m(\u001b[0m\u001b[0mself\u001b[0m\u001b[0;34m)\u001b[0m\u001b[0;34m:\u001b[0m\u001b[0;34m\u001b[0m\u001b[0;34m\u001b[0m\u001b[0m\n",
      "\u001b[0;32m~/anaconda3/lib/python3.7/site-packages/pandas/io/parsers.py\u001b[0m in \u001b[0;36m_make_engine\u001b[0;34m(self, engine)\u001b[0m\n\u001b[1;32m   1120\u001b[0m     \u001b[0;32mdef\u001b[0m \u001b[0m_make_engine\u001b[0m\u001b[0;34m(\u001b[0m\u001b[0mself\u001b[0m\u001b[0;34m,\u001b[0m \u001b[0mengine\u001b[0m\u001b[0;34m=\u001b[0m\u001b[0;34m'c'\u001b[0m\u001b[0;34m)\u001b[0m\u001b[0;34m:\u001b[0m\u001b[0;34m\u001b[0m\u001b[0;34m\u001b[0m\u001b[0m\n\u001b[1;32m   1121\u001b[0m         \u001b[0;32mif\u001b[0m \u001b[0mengine\u001b[0m \u001b[0;34m==\u001b[0m \u001b[0;34m'c'\u001b[0m\u001b[0;34m:\u001b[0m\u001b[0;34m\u001b[0m\u001b[0;34m\u001b[0m\u001b[0m\n\u001b[0;32m-> 1122\u001b[0;31m             \u001b[0mself\u001b[0m\u001b[0;34m.\u001b[0m\u001b[0m_engine\u001b[0m \u001b[0;34m=\u001b[0m \u001b[0mCParserWrapper\u001b[0m\u001b[0;34m(\u001b[0m\u001b[0mself\u001b[0m\u001b[0;34m.\u001b[0m\u001b[0mf\u001b[0m\u001b[0;34m,\u001b[0m \u001b[0;34m**\u001b[0m\u001b[0mself\u001b[0m\u001b[0;34m.\u001b[0m\u001b[0moptions\u001b[0m\u001b[0;34m)\u001b[0m\u001b[0;34m\u001b[0m\u001b[0;34m\u001b[0m\u001b[0m\n\u001b[0m\u001b[1;32m   1123\u001b[0m         \u001b[0;32melse\u001b[0m\u001b[0;34m:\u001b[0m\u001b[0;34m\u001b[0m\u001b[0;34m\u001b[0m\u001b[0m\n\u001b[1;32m   1124\u001b[0m             \u001b[0;32mif\u001b[0m \u001b[0mengine\u001b[0m \u001b[0;34m==\u001b[0m \u001b[0;34m'python'\u001b[0m\u001b[0;34m:\u001b[0m\u001b[0;34m\u001b[0m\u001b[0;34m\u001b[0m\u001b[0m\n",
      "\u001b[0;32m~/anaconda3/lib/python3.7/site-packages/pandas/io/parsers.py\u001b[0m in \u001b[0;36m__init__\u001b[0;34m(self, src, **kwds)\u001b[0m\n\u001b[1;32m   1851\u001b[0m         \u001b[0mkwds\u001b[0m\u001b[0;34m[\u001b[0m\u001b[0;34m'usecols'\u001b[0m\u001b[0;34m]\u001b[0m \u001b[0;34m=\u001b[0m \u001b[0mself\u001b[0m\u001b[0;34m.\u001b[0m\u001b[0musecols\u001b[0m\u001b[0;34m\u001b[0m\u001b[0;34m\u001b[0m\u001b[0m\n\u001b[1;32m   1852\u001b[0m \u001b[0;34m\u001b[0m\u001b[0m\n\u001b[0;32m-> 1853\u001b[0;31m         \u001b[0mself\u001b[0m\u001b[0;34m.\u001b[0m\u001b[0m_reader\u001b[0m \u001b[0;34m=\u001b[0m \u001b[0mparsers\u001b[0m\u001b[0;34m.\u001b[0m\u001b[0mTextReader\u001b[0m\u001b[0;34m(\u001b[0m\u001b[0msrc\u001b[0m\u001b[0;34m,\u001b[0m \u001b[0;34m**\u001b[0m\u001b[0mkwds\u001b[0m\u001b[0;34m)\u001b[0m\u001b[0;34m\u001b[0m\u001b[0;34m\u001b[0m\u001b[0m\n\u001b[0m\u001b[1;32m   1854\u001b[0m         \u001b[0mself\u001b[0m\u001b[0;34m.\u001b[0m\u001b[0munnamed_cols\u001b[0m \u001b[0;34m=\u001b[0m \u001b[0mself\u001b[0m\u001b[0;34m.\u001b[0m\u001b[0m_reader\u001b[0m\u001b[0;34m.\u001b[0m\u001b[0munnamed_cols\u001b[0m\u001b[0;34m\u001b[0m\u001b[0;34m\u001b[0m\u001b[0m\n\u001b[1;32m   1855\u001b[0m \u001b[0;34m\u001b[0m\u001b[0m\n",
      "\u001b[0;32mpandas/_libs/parsers.pyx\u001b[0m in \u001b[0;36mpandas._libs.parsers.TextReader.__cinit__\u001b[0;34m()\u001b[0m\n",
      "\u001b[0;32mpandas/_libs/parsers.pyx\u001b[0m in \u001b[0;36mpandas._libs.parsers.TextReader._setup_parser_source\u001b[0;34m()\u001b[0m\n",
      "\u001b[0;31mFileNotFoundError\u001b[0m: [Errno 2] File b'/home/juanca/Downloads/student/student-por.csv' does not exist: b'/home/juanca/Downloads/student/student-por.csv'"
     ]
    }
   ],
   "source": [
    "# using Kaggle dataset\n",
    "\n",
    "import pandas as pd\n",
    "\n",
    "# df = pd.read_csv('/home/juanca/Downloads/student/student-mat.csv')\n",
    "df = pd.read_csv('/home/juanca/Downloads/student/student-por.csv')\n",
    "\n",
    "print(df.head())"
   ]
  },
  {
   "cell_type": "code",
   "execution_count": null,
   "metadata": {},
   "outputs": [],
   "source": [
    "# Generating our Own Dataset\n",
    "\n",
    "# Linearly distributed datasets\n",
    "\n",
    "# %matplotlib inline\n",
    "\n",
    "# from matplotlib import pyplot as plt\n",
    "# from sklearn.datasets.samples_generator import make_regression\n",
    "\n",
    "# X, y = make_regression(n_samples=100, n_features=1, noise=5.4)\n",
    "# print(X.shape)\n",
    "# print(y.shape)\n",
    "# plt.scatter(X,y)\n",
    "\n",
    "\n",
    "# Clustered Dataset\n",
    "\n",
    "# %matplotlib inline\n",
    "# import matplotlib.pyplot as plt\n",
    "# import numpy as np\n",
    "# from sklearn.datasets import make_blobs\n",
    "# X, y = make_blobs(500, centers=3) # Generate isotropic Gaussian blobs for clustering\n",
    "\n",
    "# print(X.shape)\n",
    "# print(y.shape)\n",
    "# rgb = np.array(['r', 'g', 'b'])\n",
    "# plt.scatter(X[:, 0], X[:, 1], color=rgb[y]) # plot the blobs using a scatter plot and use color coding\n",
    "\n",
    "\n",
    "# Clustered Dataset Distributed in Circular Fashion\n",
    "\n",
    "# %matplotlib inline\n",
    "# import matplotlib.pyplot as plt\n",
    "# import numpy as np\n",
    "# from sklearn.datasets import make_circles\n",
    "\n",
    "# X, y = make_circles(n_samples=100, noise=0.09)\n",
    "# rgb = np.array(['r', 'g', 'b'])\n",
    "# plt.scatter(X[:, 0], X[:, 1], color=rgb[y])"
   ]
  },
  {
   "cell_type": "code",
   "execution_count": null,
   "metadata": {},
   "outputs": [],
   "source": [
    "# from matplotlib.pyplot as plt\n",
    "\n",
    "# %matplotlib inline\n",
    "# x = np.arange(0,)"
   ]
  },
  {
   "cell_type": "code",
   "execution_count": 14,
   "metadata": {},
   "outputs": [
    {
     "data": {
      "image/png": "[encoded data removed]",
      "text/plain": [
       "<Figure size 432x288 with 1 Axes>"
      ]
     },
     "metadata": {
      "needs_background": "light"
     },
     "output_type": "display_data"
    }
   ],
   "source": [
    "# Getting Started with Scikit-learn\n",
    "\n",
    "\n",
    "%matplotlib inline\n",
    "import matplotlib.pyplot as plt\n",
    "\n",
    "# represents the heights of a group of people in meters\n",
    "heights = [[1.6], [1.65], [1.7], [1.73], [1.8]]\n",
    "\n",
    "# represents the weights of a group of people in kgs\n",
    "weights = [[60], [65], [72.3], [75], [80]]\n",
    "\n",
    "plt.title('Weights plotted against heights')\n",
    "plt.xlabel('Heights in meters')\n",
    "plt.ylabel('Weights in kilograms')\n",
    "\n",
    "plt.plot(heights, weights, 'ks')\n",
    "# axis range for x and y\n",
    "plt.axis([1.5, 1.85, 50, 90])\n",
    "plt.grid(True)"
   ]
  },
  {
   "cell_type": "code",
   "execution_count": 58,
   "metadata": {},
   "outputs": [
    {
     "name": "stdout",
     "output_type": "stream",
     "text": [
      "76.04\n"
     ]
    },
    {
     "data": {
      "image/png": "[encoded data removed]",
      "text/plain": [
       "<Figure size 432x288 with 1 Axes>"
      ]
     },
     "metadata": {
      "needs_background": "light"
     },
     "output_type": "display_data"
    }
   ],
   "source": [
    "## Using the LinearRegression Class for Fitting the Model\n",
    "\n",
    "from sklearn.linear_model import LinearRegression\n",
    "\n",
    "heights = [[1.6], [1.65], [1.7], [1.73], [1.8]]\n",
    "weights = [[60], [65], [72.3], [75], [80]]\n",
    "\n",
    "# Create and fit the model\n",
    "model = LinearRegression()\n",
    "model.fit(X = heights, y = weights) # to train the model\n",
    "\n",
    "## Making Predictions\n",
    "\n",
    "weight = model.predict([[1.75]])[0][0] # to make a prediction\n",
    "print(round(weight,2))\n",
    "\n",
    "## Plotting the Linear Regression Line\n",
    "\n",
    "import matplotlib.pyplot as plt\n",
    "plt.title('Weights plotted against heights')\n",
    "plt.xlabel('Heights in meters')\n",
    "plt.ylabel('Weights in kilograms')\n",
    "plt.plot(heights, weights, 'ks')\n",
    "plt.axis([1.5, 1.85, 50, 90])\n",
    "plt.grid(True)\n",
    "# plot the regression line\n",
    "plt.plot(heights, model.predict(heights), color = 'r')\n",
    "plt.show()"
   ]
  },
  {
   "cell_type": "code",
   "execution_count": 54,
   "metadata": {},
   "outputs": [
    {
     "data": {
      "image/png": "[encoded data removed]",
      "text/plain": [
       "<Figure size 432x288 with 1 Axes>"
      ]
     },
     "metadata": {
      "needs_background": "light"
     },
     "output_type": "display_data"
    }
   ],
   "source": [
    "# Getting the Gradient and Intercept of the Linear Regression Line\n",
    "\n",
    "plt.title('Weights plotted against heights')\n",
    "plt.xlabel('Heights in meters')\n",
    "plt.ylabel('Weights in kilograms')\n",
    "plt.plot(heights, weights, 'k.')\n",
    "plt.axis([0, 1.85, -200, 200])\n",
    "plt.grid(True)\n",
    "# plot the regression line\n",
    "extreme_heights = [[0], [1.8]]\n",
    "plt.plot(extreme_heights, model.predict(extreme_heights), color='r')\n",
    "plt.show()"
   ]
  },
  {
   "cell_type": "code",
   "execution_count": 65,
   "metadata": {
    "scrolled": true
   },
   "outputs": [
    {
     "name": "stdout",
     "output_type": "stream",
     "text": [
      "-104.75\n",
      "-104.75\n",
      "103.31\n"
     ]
    }
   ],
   "source": [
    "print(round( model.predict([[0]] )[0][0],2))\n",
    "print(round( model.intercept_[0], 2))\n",
    "print(round(model.coef_[0][0],2))"
   ]
  },
  {
   "cell_type": "code",
   "execution_count": 86,
   "metadata": {},
   "outputs": [
    {
     "name": "stdout",
     "output_type": "stream",
     "text": [
      "Residual sum of squares: 5.34\n"
     ]
    }
   ],
   "source": [
    "# Examining the Performance of the Model by Calculating the Residual Sum of Squares\n",
    "\n",
    "import numpy as np\n",
    "\n",
    "print('Residual sum of squares: %.2f' %np.sum((weights - model.predict(heights)) ** 2))"
   ]
  },
  {
   "cell_type": "code",
   "execution_count": 89,
   "metadata": {},
   "outputs": [
    {
     "name": "stdout",
     "output_type": "stream",
     "text": [
      "TSS: 430.80\n",
      "RSS: 24.62\n",
      "R-squared: 0.94\n",
      "R-squared: 0.94\n"
     ]
    }
   ],
   "source": [
    "# Evaluating the Model Using a Test Dataset\n",
    "\n",
    "# test data\n",
    "heights_test = [[1.58], [1.62], [1.69], [1.76], [1.82]]\n",
    "weights_test = [[58], [63], [72], [73], [85]]\n",
    "\n",
    "# Total Sum of Squares (TSS)\n",
    "weights_test_mean = np.mean(np.ravel(weights_test))\n",
    "TSS = np.sum((np.ravel(weights_test) - weights_test_mean) ** 2)\n",
    "print(\"TSS: %.2f\" % TSS)\n",
    "\n",
    "# Residual Sum of Squares (RSS)\n",
    "RSS = np.sum((np.ravel(weights_test) - np.ravel(model.predict(heights_test))) ** 2)\n",
    "print(\"RSS: %.2f\" % RSS)\n",
    "\n",
    "# R_squared\n",
    "R_squared = 1 - (RSS / TSS)\n",
    "print(\"R-squared: %.2f\" % R_squared)\n",
    "\n",
    "# using scikit-learn to calculate r-squared\n",
    "print('R-squared: %.2f' % model.score(heights_test, weights_test) )"
   ]
  },
  {
   "cell_type": "code",
   "execution_count": 94,
   "metadata": {},
   "outputs": [
    {
     "name": "stdout",
     "output_type": "stream",
     "text": [
      "0.94\n"
     ]
    }
   ],
   "source": [
    "# Persisting the Model using the pickle module\n",
    "\n",
    "import pickle\n",
    "\n",
    "# save the model to disk\n",
    "\n",
    "filename = 'HeightsAndWeights_model.sav'\n",
    "# write to the file using write and binary mode\n",
    "pickle.dump(model, open(filename, 'wb'))\n",
    "\n",
    "# load the model from disk\n",
    "loaded_model = pickle.load(open(filename, 'rb'))\n",
    "\n",
    "result = loaded_model.score(heights_test, weights_test)\n",
    "print(round(result,2))"
   ]
  },
  {
   "cell_type": "code",
   "execution_count": 95,
   "metadata": {},
   "outputs": [
    {
     "name": "stdout",
     "output_type": "stream",
     "text": [
      "0.94\n"
     ]
    }
   ],
   "source": [
    "# Persisting the Model using the joblib module\n",
    "\n",
    "from sklearn.externals import joblib\n",
    "\n",
    "# save the model to disk\n",
    "filename = 'HeightsAndWeights_model2.sav'\n",
    "joblib.dump(model, filename)\n",
    "\n",
    "# load the model from disk\n",
    "loaded_model = joblib.load(filename)\n",
    "result = loaded_model.score(heights_test, weights_test)\n",
    "print(round(result,2))\n"
   ]
  },
  {
   "cell_type": "code",
   "execution_count": 103,
   "metadata": {},
   "outputs": [
    {
     "name": "stdout",
     "output_type": "stream",
     "text": [
      "    A     B   C\n",
      "0   1   2.0   3\n",
      "1   4   NaN   6\n",
      "2   7   NaN   9\n",
      "3  10  11.0  12\n",
      "4  13  14.0  15\n",
      "5  16  17.0  18\n"
     ]
    }
   ],
   "source": [
    "# Cleaning Rows with NaNs\n",
    "\n",
    "import pandas as pd\n",
    "df = pd.read_csv('NaNDataset.csv')\n",
    "df.isnull().sum()\n",
    "print(df)"
   ]
  },
  {
   "cell_type": "code",
   "execution_count": 105,
   "metadata": {},
   "outputs": [
    {
     "name": "stdout",
     "output_type": "stream",
     "text": [
      "    A     B   C\n",
      "0   1   2.0   3\n",
      "3  10  11.0  12\n",
      "4  13  14.0  15\n",
      "5  16  17.0  18\n",
      "    A     B   C\n",
      "0   1   2.0   3\n",
      "3  10  11.0  12\n",
      "4  13  14.0  15\n",
      "5  16  17.0  18\n",
      "    A     B   C\n",
      "0   1   2.0   3\n",
      "1  10  11.0  12\n",
      "2  13  14.0  15\n",
      "3  16  17.0  18\n"
     ]
    }
   ],
   "source": [
    "# Replacing NaN with the Mean of the Column\n",
    "\n",
    "# replace all the NaNs in column B with the average of column B\n",
    "df.B = df.B.fillna(df.B.mean())\n",
    "print(df)\n",
    "\n",
    "# Removing Rows\n",
    "df = pd.read_csv('NaNDataset.csv')\n",
    "df = df.dropna()\n",
    "print(df)\n",
    "\n",
    "# reseting the index\n",
    "df = df.reset_index(drop=True)\n",
    "print(df)"
   ]
  },
  {
   "cell_type": "code",
   "execution_count": 111,
   "metadata": {},
   "outputs": [
    {
     "name": "stdout",
     "output_type": "stream",
     "text": [
      "0    False\n",
      "1     True\n",
      "2     True\n",
      "3    False\n",
      "4    False\n",
      "5     True\n",
      "6     True\n",
      "7    False\n",
      "8    False\n",
      "dtype: bool\n",
      "0    False\n",
      "1    False\n",
      "2     True\n",
      "3    False\n",
      "4    False\n",
      "5    False\n",
      "6     True\n",
      "7    False\n",
      "8    False\n",
      "dtype: bool\n",
      "    A   B   C\n",
      "1   4   5   6\n",
      "2   4   5   6\n",
      "5  10  11  12\n",
      "6  10  11  12\n",
      "    A   B   C\n",
      "0   1   2   3\n",
      "1   4   5   6\n",
      "3   7   8   9\n",
      "4   7  18   9\n",
      "5  10  11  12\n",
      "7  13  14  15\n",
      "8  16  17  18\n",
      "    A   B   C\n",
      "0   1   2   3\n",
      "1   4   5   6\n",
      "4   7  18   9\n",
      "5  10  11  12\n",
      "7  13  14  15\n",
      "8  16  17  18\n"
     ]
    }
   ],
   "source": [
    "# Removing Duplicate Rows\n",
    "\n",
    "import pandas as pd\n",
    "df = pd.read_csv('DuplicateRows.csv')\n",
    "\n",
    "print(df.duplicated(keep=False))\n",
    "\n",
    "print(df.duplicated(keep='first'))\n",
    "\n",
    "print(df[df.duplicated(keep=False)])\n",
    "\n",
    "# duplicates and keep the first\n",
    "df.drop_duplicates(keep='first', inplace=True)\n",
    "print(df)\n",
    "\n",
    "# remove all duplicates in columns A and C and keep the last\n",
    "df.drop_duplicates(subset=['A', 'C'], keep='last', inplace=True)\n",
    "print(df)\n"
   ]
  },
  {
   "cell_type": "code",
   "execution_count": null,
   "metadata": {},
   "outputs": [],
   "source": [
    "# Normalizing Columns\n",
    "\n"
   ]
  }
 ],
 "metadata": {
  "kernelspec": {
   "display_name": "Python 3",
   "language": "python",
   "name": "python3"
  },
  "language_info": {
   "codemirror_mode": {
    "name": "ipython",
    "version": 3
   },
   "file_extension": ".py",
   "mimetype": "text/x-python",
   "name": "python",
   "nbconvert_exporter": "python",
   "pygments_lexer": "ipython3",
   "version": "3.7.3"
  }
 },
 "nbformat": 4,
 "nbformat_minor": 2
}
