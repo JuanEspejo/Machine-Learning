{
 "cells": [
  {
   "cell_type": "markdown",
   "metadata": {},
   "source": [
    "# Test 2 - Question 2\n",
    "## Student: Luis Vasquez Espinoza\n",
    "\n",
    "Q: *Simple linear regression and transformation*\n",
    "\n",
    "Consider the data below on colon cancer mortality in different age groups (given as interval midpoints).The mortality is in parts per million per year.\n",
    "\n",
    "* **age:**       22.5,  27.5,  32.5,  37.5,  42.5,  47.5,  52.5,  57.5,  62.5,  67.5,  72.5,  77.5,  82.5\n",
    "* **mortality:** 0.58,  1.42,  3.41,  6.63,  13.0,  24.9,  45.7,  82.2,  128 ,  187 ,  283 ,  369 ,  462\n",
    "\n",
    "Investigate whether the data can be described by a regression of\n",
    "\n",
    "* a) $y$ on $x$\n",
    "* b) $ln(y)$ on $x$\n",
    "* c) $ln(y)$ on $ln(x)$\n",
    "\n",
    "Where $y$ = mortality and $x$= age.\n",
    "Estimate the parameters in the best model.Write down the equation for predicting y from x. Compute prediction intervals for (some of)the age values in the data, and compare with prediction intervals from the second best model.\n",
    "___"
   ]
  },
  {
   "cell_type": "code",
   "execution_count": 187,
   "metadata": {},
   "outputs": [],
   "source": [
    "import pandas as pd"
   ]
  },
  {
   "cell_type": "code",
   "execution_count": 188,
   "metadata": {},
   "outputs": [
    {
     "data": {
      "text/html": [
       "<div>\n",
       "<style scoped>\n",
       "    .dataframe tbody tr th:only-of-type {\n",
       "        vertical-align: middle;\n",
       "    }\n",
       "\n",
       "    .dataframe tbody tr th {\n",
       "        vertical-align: top;\n",
       "    }\n",
       "\n",
       "    .dataframe thead th {\n",
       "        text-align: right;\n",
       "    }\n",
       "</style>\n",
       "<table border=\"1\" class=\"dataframe\">\n",
       "  <thead>\n",
       "    <tr style=\"text-align: right;\">\n",
       "      <th></th>\n",
       "      <th>age</th>\n",
       "      <th>mortality_ppm</th>\n",
       "    </tr>\n",
       "  </thead>\n",
       "  <tbody>\n",
       "    <tr>\n",
       "      <td>0</td>\n",
       "      <td>22.5</td>\n",
       "      <td>0.58</td>\n",
       "    </tr>\n",
       "    <tr>\n",
       "      <td>1</td>\n",
       "      <td>27.5</td>\n",
       "      <td>1.42</td>\n",
       "    </tr>\n",
       "    <tr>\n",
       "      <td>2</td>\n",
       "      <td>32.5</td>\n",
       "      <td>3.41</td>\n",
       "    </tr>\n",
       "    <tr>\n",
       "      <td>3</td>\n",
       "      <td>37.5</td>\n",
       "      <td>6.63</td>\n",
       "    </tr>\n",
       "    <tr>\n",
       "      <td>4</td>\n",
       "      <td>42.5</td>\n",
       "      <td>13.00</td>\n",
       "    </tr>\n",
       "    <tr>\n",
       "      <td>5</td>\n",
       "      <td>47.5</td>\n",
       "      <td>24.90</td>\n",
       "    </tr>\n",
       "    <tr>\n",
       "      <td>6</td>\n",
       "      <td>52.5</td>\n",
       "      <td>45.70</td>\n",
       "    </tr>\n",
       "    <tr>\n",
       "      <td>7</td>\n",
       "      <td>57.5</td>\n",
       "      <td>82.20</td>\n",
       "    </tr>\n",
       "    <tr>\n",
       "      <td>8</td>\n",
       "      <td>62.5</td>\n",
       "      <td>128.00</td>\n",
       "    </tr>\n",
       "    <tr>\n",
       "      <td>9</td>\n",
       "      <td>67.5</td>\n",
       "      <td>187.00</td>\n",
       "    </tr>\n",
       "    <tr>\n",
       "      <td>10</td>\n",
       "      <td>72.5</td>\n",
       "      <td>283.00</td>\n",
       "    </tr>\n",
       "    <tr>\n",
       "      <td>11</td>\n",
       "      <td>77.5</td>\n",
       "      <td>369.00</td>\n",
       "    </tr>\n",
       "    <tr>\n",
       "      <td>12</td>\n",
       "      <td>82.5</td>\n",
       "      <td>462.00</td>\n",
       "    </tr>\n",
       "  </tbody>\n",
       "</table>\n",
       "</div>"
      ],
      "text/plain": [
       "     age  mortality_ppm\n",
       "0   22.5           0.58\n",
       "1   27.5           1.42\n",
       "2   32.5           3.41\n",
       "3   37.5           6.63\n",
       "4   42.5          13.00\n",
       "5   47.5          24.90\n",
       "6   52.5          45.70\n",
       "7   57.5          82.20\n",
       "8   62.5         128.00\n",
       "9   67.5         187.00\n",
       "10  72.5         283.00\n",
       "11  77.5         369.00\n",
       "12  82.5         462.00"
      ]
     },
     "execution_count": 188,
     "metadata": {},
     "output_type": "execute_result"
    }
   ],
   "source": [
    "# Loading the data\n",
    "age = [22.5, 27.5, 32.5, 37.5, 42.5, 47.5, 52.5, 57.5, 62.5, 67.5, 72.5, 77.5, 82.5]\n",
    "mortality_ppm = [0.58, 1.42, 3.41, 6.63, 13.0, 24.9, 45.7, 82.2, 128 , 187 , 283 , 369 , 462]\n",
    "\n",
    "cancer_mortality_data = pd.DataFrame({\"age\":age, 'mortality_ppm':mortality_ppm})\n",
    "cancer_mortality_data"
   ]
  },
  {
   "cell_type": "code",
   "execution_count": 189,
   "metadata": {},
   "outputs": [
    {
     "data": {
      "text/html": [
       "<div>\n",
       "<style scoped>\n",
       "    .dataframe tbody tr th:only-of-type {\n",
       "        vertical-align: middle;\n",
       "    }\n",
       "\n",
       "    .dataframe tbody tr th {\n",
       "        vertical-align: top;\n",
       "    }\n",
       "\n",
       "    .dataframe thead th {\n",
       "        text-align: right;\n",
       "    }\n",
       "</style>\n",
       "<table border=\"1\" class=\"dataframe\">\n",
       "  <thead>\n",
       "    <tr style=\"text-align: right;\">\n",
       "      <th></th>\n",
       "      <th>age</th>\n",
       "      <th>mortality_ppm</th>\n",
       "      <th>ln_age</th>\n",
       "      <th>ln_mortality_ppm</th>\n",
       "    </tr>\n",
       "  </thead>\n",
       "  <tbody>\n",
       "    <tr>\n",
       "      <td>0</td>\n",
       "      <td>22.5</td>\n",
       "      <td>0.58</td>\n",
       "      <td>3.113515</td>\n",
       "      <td>-0.544727</td>\n",
       "    </tr>\n",
       "    <tr>\n",
       "      <td>1</td>\n",
       "      <td>27.5</td>\n",
       "      <td>1.42</td>\n",
       "      <td>3.314186</td>\n",
       "      <td>0.350657</td>\n",
       "    </tr>\n",
       "    <tr>\n",
       "      <td>2</td>\n",
       "      <td>32.5</td>\n",
       "      <td>3.41</td>\n",
       "      <td>3.481240</td>\n",
       "      <td>1.226712</td>\n",
       "    </tr>\n",
       "    <tr>\n",
       "      <td>3</td>\n",
       "      <td>37.5</td>\n",
       "      <td>6.63</td>\n",
       "      <td>3.624341</td>\n",
       "      <td>1.891605</td>\n",
       "    </tr>\n",
       "    <tr>\n",
       "      <td>4</td>\n",
       "      <td>42.5</td>\n",
       "      <td>13.00</td>\n",
       "      <td>3.749504</td>\n",
       "      <td>2.564949</td>\n",
       "    </tr>\n",
       "    <tr>\n",
       "      <td>5</td>\n",
       "      <td>47.5</td>\n",
       "      <td>24.90</td>\n",
       "      <td>3.860730</td>\n",
       "      <td>3.214868</td>\n",
       "    </tr>\n",
       "    <tr>\n",
       "      <td>6</td>\n",
       "      <td>52.5</td>\n",
       "      <td>45.70</td>\n",
       "      <td>3.960813</td>\n",
       "      <td>3.822098</td>\n",
       "    </tr>\n",
       "    <tr>\n",
       "      <td>7</td>\n",
       "      <td>57.5</td>\n",
       "      <td>82.20</td>\n",
       "      <td>4.051785</td>\n",
       "      <td>4.409155</td>\n",
       "    </tr>\n",
       "    <tr>\n",
       "      <td>8</td>\n",
       "      <td>62.5</td>\n",
       "      <td>128.00</td>\n",
       "      <td>4.135167</td>\n",
       "      <td>4.852030</td>\n",
       "    </tr>\n",
       "    <tr>\n",
       "      <td>9</td>\n",
       "      <td>67.5</td>\n",
       "      <td>187.00</td>\n",
       "      <td>4.212128</td>\n",
       "      <td>5.231109</td>\n",
       "    </tr>\n",
       "    <tr>\n",
       "      <td>10</td>\n",
       "      <td>72.5</td>\n",
       "      <td>283.00</td>\n",
       "      <td>4.283587</td>\n",
       "      <td>5.645447</td>\n",
       "    </tr>\n",
       "    <tr>\n",
       "      <td>11</td>\n",
       "      <td>77.5</td>\n",
       "      <td>369.00</td>\n",
       "      <td>4.350278</td>\n",
       "      <td>5.910797</td>\n",
       "    </tr>\n",
       "    <tr>\n",
       "      <td>12</td>\n",
       "      <td>82.5</td>\n",
       "      <td>462.00</td>\n",
       "      <td>4.412798</td>\n",
       "      <td>6.135565</td>\n",
       "    </tr>\n",
       "  </tbody>\n",
       "</table>\n",
       "</div>"
      ],
      "text/plain": [
       "     age  mortality_ppm    ln_age  ln_mortality_ppm\n",
       "0   22.5           0.58  3.113515         -0.544727\n",
       "1   27.5           1.42  3.314186          0.350657\n",
       "2   32.5           3.41  3.481240          1.226712\n",
       "3   37.5           6.63  3.624341          1.891605\n",
       "4   42.5          13.00  3.749504          2.564949\n",
       "5   47.5          24.90  3.860730          3.214868\n",
       "6   52.5          45.70  3.960813          3.822098\n",
       "7   57.5          82.20  4.051785          4.409155\n",
       "8   62.5         128.00  4.135167          4.852030\n",
       "9   67.5         187.00  4.212128          5.231109\n",
       "10  72.5         283.00  4.283587          5.645447\n",
       "11  77.5         369.00  4.350278          5.910797\n",
       "12  82.5         462.00  4.412798          6.135565"
      ]
     },
     "execution_count": 189,
     "metadata": {},
     "output_type": "execute_result"
    }
   ],
   "source": [
    "# Creating dependencies between x and y as stated in the question\n",
    "import math\n",
    "\n",
    "cancer_mortality_data['ln_age'] = cancer_mortality_data['age'].apply(lambda x: math.log(x))\n",
    "cancer_mortality_data['ln_mortality_ppm'] = cancer_mortality_data['mortality_ppm'].apply(lambda x: math.log(x))\n",
    "\n",
    "cancer_mortality_data"
   ]
  },
  {
   "cell_type": "code",
   "execution_count": 190,
   "metadata": {},
   "outputs": [
    {
     "data": {
      "image/png": "[encoded data removed]",
      "text/plain": [
       "<Figure size 1152x360 with 3 Axes>"
      ]
     },
     "metadata": {
      "needs_background": "light"
     },
     "output_type": "display_data"
    }
   ],
   "source": [
    "# Plotting the solicitated dependencies\n",
    "%matplotlib inline\n",
    "import matplotlib.pyplot as plt\n",
    "\n",
    "fig, axs = plt.subplots(1, 3, figsize=(16,5))\n",
    "\n",
    "axs[0].scatter(cancer_mortality_data['age'], cancer_mortality_data['mortality_ppm'])# y on x\n",
    "axs[0].set_title('$y$ vs $x$') \n",
    "\n",
    "axs[1].scatter(cancer_mortality_data['age'], cancer_mortality_data['ln_mortality_ppm']) # ln(y) on x\n",
    "axs[1].set_title('$ln(y)$ vs $x$') \n",
    "\n",
    "axs[2].scatter(cancer_mortality_data['ln_age'], cancer_mortality_data['ln_mortality_ppm']) # ln(y) on ln(x)\n",
    "axs[2].set_title('$ln(y)$ vs $ln(x)$') \n",
    "\n",
    "plt.show()"
   ]
  },
  {
   "cell_type": "markdown",
   "metadata": {},
   "source": [
    "Clearly, the dependency that shows a better linear adjustment is the last one ($lny$ vs $lnx$). Evenso, let's apply a LinearRegression model on all three of them."
   ]
  },
  {
   "cell_type": "code",
   "execution_count": 191,
   "metadata": {},
   "outputs": [],
   "source": [
    "import numpy as np\n",
    "from sklearn.linear_model import LinearRegression\n",
    "from sklearn.metrics import median_absolute_error\n",
    "\n",
    "x = cancer_mortality_data['age'].to_numpy().reshape(-1,1)\n",
    "y = cancer_mortality_data['mortality_ppm'].to_numpy().reshape(-1,1)\n",
    "ln_x = cancer_mortality_data['ln_age'].to_numpy().reshape(-1,1)\n",
    "ln_y = cancer_mortality_data['ln_mortality_ppm'].to_numpy().reshape(-1,1)"
   ]
  },
  {
   "cell_type": "code",
   "execution_count": 192,
   "metadata": {},
   "outputs": [
    {
     "name": "stdout",
     "output_type": "stream",
     "text": [
      "Fitting eq: y = 7.201307692307691.x + -254.46557692307684\n",
      "R^2: 0.8077176888851028\n",
      "MAE: 62.69653846153847\n"
     ]
    },
    {
     "data": {
      "text/plain": [
       "[<matplotlib.lines.Line2D at 0x7fe7af6e87d0>]"
      ]
     },
     "execution_count": 192,
     "metadata": {},
     "output_type": "execute_result"
    },
    {
     "data": {
      "image/png": "[encoded data removed]",
      "text/plain": [
       "<Figure size 432x288 with 1 Axes>"
      ]
     },
     "metadata": {
      "needs_background": "light"
     },
     "output_type": "display_data"
    }
   ],
   "source": [
    "# Calculating, measuring and plotting \"y vs x\"\n",
    "\n",
    "lr_1 = LinearRegression()\n",
    "lr_1.fit(x, y)\n",
    "\n",
    "print(\"Fitting eq: y = {}.x + {}\".format(lr_1.coef_[0,0], lr_1.intercept_[0]))\n",
    "print(\"R^2: {}\".format(lr_1.score(x, y)))\n",
    "print(\"MAE: {}\".format(median_absolute_error(y, lr_1.predict(x))))\n",
    "\n",
    "plt.scatter(x,y)\n",
    "plt.plot(x,lr_1.predict(x))"
   ]
  },
  {
   "cell_type": "code",
   "execution_count": 193,
   "metadata": {},
   "outputs": [
    {
     "name": "stdout",
     "output_type": "stream",
     "text": [
      "Fitting eq: ln(y) = 0.11136741806169952.x + -2.4075383046931558\n",
      "R^2: 0.9720200804564302\n",
      "MAE: 0.3044088203904118\n"
     ]
    },
    {
     "data": {
      "text/plain": [
       "[<matplotlib.lines.Line2D at 0x7fe7af668e50>]"
      ]
     },
     "execution_count": 193,
     "metadata": {},
     "output_type": "execute_result"
    },
    {
     "data": {
      "image/png": "[encoded data removed]",
      "text/plain": [
       "<Figure size 432x288 with 1 Axes>"
      ]
     },
     "metadata": {
      "needs_background": "light"
     },
     "output_type": "display_data"
    }
   ],
   "source": [
    "# Calculating, measuring and plotting \"ln(y) vs x\"\n",
    "\n",
    "lr_2 = LinearRegression()\n",
    "lr_2.fit(x, ln_y)\n",
    "\n",
    "print(\"Fitting eq: ln(y) = {}.x + {}\".format(lr_2.coef_[0,0], lr_2.intercept_[0]))\n",
    "print(\"R^2: {}\".format(lr_2.score(x, ln_y)))\n",
    "print(\"MAE: {}\".format(median_absolute_error(ln_y, lr_2.predict(x))))\n",
    "\n",
    "plt.scatter(x,ln_y)\n",
    "plt.plot(x,lr_2.predict(x))"
   ]
  },
  {
   "cell_type": "code",
   "execution_count": 194,
   "metadata": {},
   "outputs": [
    {
     "name": "stdout",
     "output_type": "stream",
     "text": [
      "Fitting eq: ln(y) = 5.34556181813055.ln(x) + -17.346789659504893\n",
      "R^2: 0.998096203391949\n",
      "MAE: 0.09403146609219437\n"
     ]
    },
    {
     "data": {
      "text/plain": [
       "[<matplotlib.lines.Line2D at 0x7fe7af651510>]"
      ]
     },
     "execution_count": 194,
     "metadata": {},
     "output_type": "execute_result"
    },
    {
     "data": {
      "image/png": "[encoded data removed]",
      "text/plain": [
       "<Figure size 432x288 with 1 Axes>"
      ]
     },
     "metadata": {
      "needs_background": "light"
     },
     "output_type": "display_data"
    }
   ],
   "source": [
    "# Calculating, measuring and plotting \"ln(y) vs ln(x)\"\n",
    "\n",
    "lr_3 = LinearRegression()\n",
    "lr_3.fit(ln_x, ln_y)\n",
    "\n",
    "print(\"Fitting eq: ln(y) = {}.ln(x) + {}\".format(lr_3.coef_[0,0], lr_3.intercept_[0]))\n",
    "print(\"R^2: {}\".format(lr_3.score(ln_x, ln_y)))\n",
    "print(\"MAE: {}\".format(median_absolute_error(ln_y, lr_3.predict(ln_x))))\n",
    "\n",
    "plt.scatter(ln_x,ln_y)\n",
    "plt.plot(ln_x,lr_3.predict(ln_x))"
   ]
  },
  {
   "cell_type": "markdown",
   "metadata": {},
   "source": [
    "All three of the models got a decent r-square value\n",
    "* $0.807$ for $x$ vs $y$\n",
    "* $0.972$ for $x$ vs $ln(y)$\n",
    "* $0.998$ for $ln(x)$ vs $ln(y)$)\n",
    "\n",
    "But what really gives a relation between the third and obviously best model and a metric is the Median Absolute Error metric.\n",
    "\n",
    "* $62.69$ for $x$ vs $y$\n",
    "* $0.304$ for $x$ vs $ln(y)$\n",
    "* $0.09$ for $ln(x)$ vs $ln(y)$\n",
    "\n",
    "Finally, we can say that this last one is the best model for fitting the cancer mortaly vs age data, because it has the lowest median error over the adjusted data.\n",
    "\n",
    "The final equation goes as follows:\n",
    "\n",
    "> $ln(mortality) = -17.34 + 5.345*ln(age)$\n",
    "\n",
    "or\n",
    "\n",
    "> $mortality = e^{-17.34} * age^{5.345}$"
   ]
  },
  {
   "cell_type": "markdown",
   "metadata": {},
   "source": [
    "Now, I dont think that the theory behind prediction intervals was covered in class, but I could be wrong. I checked some references on what was and how would I calculate it over a fitted model. Using [this material](https://machinelearningmastery.com/prediction-intervals-for-machine-learning/) as reference, I will compute 3 prediction intervals over some data."
   ]
  },
  {
   "cell_type": "code",
   "execution_count": 195,
   "metadata": {},
   "outputs": [],
   "source": [
    "def get_prediction_interval(y, y_predicted, std_coef=1.96):\n",
    "    sum_errs = np.sum((y - y_predicted)**2)\n",
    "    standar_dev = np.sqrt(1/(len(y)-2) * sum_errs)\n",
    "    interval = standar_dev*std_coef\n",
    "    return interval"
   ]
  },
  {
   "cell_type": "code",
   "execution_count": 196,
   "metadata": {},
   "outputs": [
    {
     "data": {
      "text/html": [
       "<div>\n",
       "<style scoped>\n",
       "    .dataframe tbody tr th:only-of-type {\n",
       "        vertical-align: middle;\n",
       "    }\n",
       "\n",
       "    .dataframe tbody tr th {\n",
       "        vertical-align: top;\n",
       "    }\n",
       "\n",
       "    .dataframe thead th {\n",
       "        text-align: right;\n",
       "    }\n",
       "</style>\n",
       "<table border=\"1\" class=\"dataframe\">\n",
       "  <thead>\n",
       "    <tr style=\"text-align: right;\">\n",
       "      <th></th>\n",
       "      <th>age</th>\n",
       "      <th>mortality_ppm</th>\n",
       "      <th>ln_age</th>\n",
       "      <th>ln_mortality_ppm</th>\n",
       "    </tr>\n",
       "  </thead>\n",
       "  <tbody>\n",
       "    <tr>\n",
       "      <td>11</td>\n",
       "      <td>77.5</td>\n",
       "      <td>369.00</td>\n",
       "      <td>4.350278</td>\n",
       "      <td>5.910797</td>\n",
       "    </tr>\n",
       "    <tr>\n",
       "      <td>2</td>\n",
       "      <td>32.5</td>\n",
       "      <td>3.41</td>\n",
       "      <td>3.481240</td>\n",
       "      <td>1.226712</td>\n",
       "    </tr>\n",
       "    <tr>\n",
       "      <td>10</td>\n",
       "      <td>72.5</td>\n",
       "      <td>283.00</td>\n",
       "      <td>4.283587</td>\n",
       "      <td>5.645447</td>\n",
       "    </tr>\n",
       "  </tbody>\n",
       "</table>\n",
       "</div>"
      ],
      "text/plain": [
       "     age  mortality_ppm    ln_age  ln_mortality_ppm\n",
       "11  77.5         369.00  4.350278          5.910797\n",
       "2   32.5           3.41  3.481240          1.226712\n",
       "10  72.5         283.00  4.283587          5.645447"
      ]
     },
     "execution_count": 196,
     "metadata": {},
     "output_type": "execute_result"
    }
   ],
   "source": [
    "# Some datapoints for testing prediction intervals\n",
    "pred_interval_data = cancer_mortality_data.sample(3, random_state=12321)\n",
    "pred_interval_data"
   ]
  },
  {
   "cell_type": "code",
   "execution_count": 197,
   "metadata": {},
   "outputs": [],
   "source": [
    "# Best and second best models\n",
    "x_test = pred_interval_data['age'].to_numpy().reshape(-1, 1)\n",
    "lnx_test = pred_interval_data['ln_age'].to_numpy().reshape(-1, 1)\n",
    "lny_test = pred_interval_data['ln_mortality_ppm'].to_numpy().reshape(-1, 1)"
   ]
  },
  {
   "cell_type": "code",
   "execution_count": 198,
   "metadata": {},
   "outputs": [],
   "source": [
    "y3_predictions_list = lr_3.predict(lnx_test)\n",
    "y2_predictions_list = lr_2.predict(x_test)"
   ]
  },
  {
   "cell_type": "code",
   "execution_count": 199,
   "metadata": {},
   "outputs": [],
   "source": [
    "y3_pred_interval = [get_prediction_interval(lny_test, y3_pred) for y3_pred in y3_predictions_list]\n",
    "y2_pred_interval = [get_prediction_interval(lny_test, y2_pred) for y2_pred in y2_predictions_list]"
   ]
  },
  {
   "cell_type": "code",
   "execution_count": 200,
   "metadata": {},
   "outputs": [
    {
     "name": "stdout",
     "output_type": "stream",
     "text": [
      "best model pred. interval: 9.189517915127544 | second best pred. interval: 9.877907965030193 \n",
      " >>Diff:-0.6883900499026492\n",
      "\n",
      "best model pred. interval: 12.522554132966025 | second best pred. interval: 12.662288145785189 \n",
      " >>Diff:-0.1397340128191633\n",
      "\n",
      "best model pred. interval: 8.507581957340156 | second best pred. interval: 8.715430015683818 \n",
      " >>Diff:-0.2078480583436626\n",
      "\n"
     ]
    }
   ],
   "source": [
    "for y3_int, y2_int in zip(y3_pred_interval, y2_pred_interval):\n",
    "    print(\"best model pred. interval: {} | second best pred. interval: {} \\n >>Diff:{}\\n\".format(y3_int, y2_int, y3_int-y2_int))"
   ]
  },
  {
   "cell_type": "markdown",
   "metadata": {},
   "source": [
    "**Is shown that the intervals that describes confidence for the best model are narrower than the second best's, wich gives a smaller error amplitude and thus, more confidence.**"
   ]
  },
  {
   "cell_type": "code",
   "execution_count": 201,
   "metadata": {},
   "outputs": [
    {
     "data": {
      "image/png": "[encoded data removed]",
      "text/plain": [
       "<Figure size 1080x360 with 2 Axes>"
      ]
     },
     "metadata": {
      "needs_background": "light"
     },
     "output_type": "display_data"
    }
   ],
   "source": [
    "fig, axs = plt.subplots(1, 2, figsize=(15,5))\n",
    "\n",
    "# Second best model (left)\n",
    "axs[0].scatter(x, ln_y)\n",
    "axs[0].plot(x, lr_2.predict(x))\n",
    "axs[0].set_title('$x$ vs $ln(y)$')\n",
    "axs[0].errorbar(x_test, y2_predictions_list, yerr=y2_pred_interval, color='black', fmt='o')\n",
    "\n",
    "\n",
    "# Best model (right)\n",
    "axs[1].scatter(ln_x, ln_y)\n",
    "axs[1].plot(ln_x, lr_3.predict(ln_x))\n",
    "axs[1].set_title('$ln(x)$ vs $ln(y)$')\n",
    "axs[1].errorbar(lnx_test, y3_predictions_list, yerr=y3_pred_interval, color='black', fmt='o')\n",
    "\n",
    "plt.show()"
   ]
  }
 ],
 "metadata": {
  "kernelspec": {
   "display_name": "Python 3",
   "language": "python",
   "name": "python3"
  },
  "language_info": {
   "codemirror_mode": {
    "name": "ipython",
    "version": 3
   },
   "file_extension": ".py",
   "mimetype": "text/x-python",
   "name": "python",
   "nbconvert_exporter": "python",
   "pygments_lexer": "ipython3",
   "version": "3.7.3"
  }
 },
 "nbformat": 4,
 "nbformat_minor": 4
}
