{
 "cells": [
  {
   "cell_type": "markdown",
   "metadata": {},
   "source": [
    "# Ejercicio N°2.3\n",
    "##### Simple linear regression and transformation\n",
    "Consider the data below on colon cancer mortality in different age groups (given as interval midpoints).\n",
    "The mortality is in parts per million per year. (Data from Cairns, J. (1975): The cancer problem,\n",
    "Scientific American 233, 64–78.)\n",
    "\n",
    "_datos en ej2_3.csv_"
   ]
  },
  {
   "cell_type": "code",
   "execution_count": 12,
   "metadata": {},
   "outputs": [],
   "source": [
    "#Librerias\n",
    "import matplotlib.pyplot as plt\n",
    "import pandas as pd\n",
    "import numpy as np\n",
    "from sklearn.linear_model import LinearRegression\n"
   ]
  },
  {
   "cell_type": "code",
   "execution_count": 15,
   "metadata": {},
   "outputs": [
    {
     "data": {
      "text/plain": [
       "array([[22.5],\n",
       "       [27.5],\n",
       "       [32.5],\n",
       "       [37.5],\n",
       "       [42.5],\n",
       "       [47.5],\n",
       "       [52.5],\n",
       "       [57.5],\n",
       "       [62.5],\n",
       "       [67.5],\n",
       "       [72.5],\n",
       "       [77.5],\n",
       "       [82.5]])"
      ]
     },
     "execution_count": 15,
     "metadata": {},
     "output_type": "execute_result"
    }
   ],
   "source": [
    "# Cargando data\n",
    "dataset = pd.read_csv('ej2_3.csv')\n",
    "age = dataset.iloc[:,0].values.reshape(-1,1) # convierte a un narray\n",
    "mort = dataset.iloc[:,1].values.reshape(-1,1)\n",
    "age"
   ]
  },
  {
   "cell_type": "markdown",
   "metadata": {},
   "source": [
    "# Item 1\n",
    "\n",
    "* Verificar qué regresión encaja mejor con la data\n",
    "    1. y VS x\n",
    "    2. lny VS x\n",
    "    3. lny VS lnx\n",
    "    \n",
    "Para esto _y = mortality x = age_"
   ]
  },
  {
   "cell_type": "markdown",
   "metadata": {},
   "source": [
    "### 1. Y vs X"
   ]
  },
  {
   "cell_type": "code",
   "execution_count": 30,
   "metadata": {},
   "outputs": [
    {
     "name": "stdout",
     "output_type": "stream",
     "text": [
      "mort = 7.2013*age + (-254.4656)\n",
      "\n",
      "Predicciones\n",
      "\n",
      "Para edad de 23.0 -> mortalidad: -88.84\n",
      "Para edad de 83.0 -> mortalidad: 343.24\n"
     ]
    }
   ],
   "source": [
    "# mortality vs age\n",
    "model_1 = LinearRegression()\n",
    "result = model_1.fit(age,mort)\n",
    "# hallando la ecuacion\n",
    "coef_b = round(model_1.intercept_[0],4)\n",
    "coef_a = round(model_1.coef_[0][0],4)\n",
    "\n",
    "\n",
    "# Predicciones\n",
    "print('\\nPredicciones\\n')\n",
    "y1_test = model_1.predict([[23.0]])[0][0]\n",
    "print('Para edad de 23.0 -> mortalidad: ' + str(round(y1_test,2)))\n",
    "\n",
    "y2_test = model_1.predict([[83.0]])[0][0]\n",
    "print('Para edad de 83.0 -> mortalidad: ' + str(round(y2_test,2)))"
   ]
  },
  {
   "cell_type": "code",
   "execution_count": 79,
   "metadata": {
    "scrolled": true
   },
   "outputs": [
    {
     "name": "stdout",
     "output_type": "stream",
     "text": [
      "R-Squared:  0.80772\n",
      "Equation: lnmort = 5.3456*lnage + (-17.3468)\n"
     ]
    },
    {
     "data": {
      "image/png": "[encoded data removed]",
      "text/plain": [
       "<Figure size 432x288 with 1 Axes>"
      ]
     },
     "metadata": {
      "needs_background": "light"
     },
     "output_type": "display_data"
    }
   ],
   "source": [
    "#Dibujando\n",
    "plt.title('Y vs X')\n",
    "plt.xlabel('Age')\n",
    "plt.ylabel('Mortality')\n",
    "plt.plot(age,mort,'k.')\n",
    "plt.axis([20,90,-100, 500])\n",
    "plt.grid(True)\n",
    "extreme_ages = [[0],[90]]\n",
    "plt.plot(extreme_ages, model_1.predict(extreme_ages), color='r')\n",
    "\n",
    "\n",
    "# Hallando el R-Squared para comprobar\n",
    "rSquared_1 = model_1.score(age, mort)\n",
    "print('R-Squared:  %.5f' % rSquared_1)\n",
    "print('Equation: lnmort = '+ str(coef_a) + '*lnage + ('+str(coef_b)+')') "
   ]
  },
  {
   "cell_type": "markdown",
   "metadata": {},
   "source": [
    "### 2. Lny vs X"
   ]
  },
  {
   "cell_type": "code",
   "execution_count": 64,
   "metadata": {},
   "outputs": [
    {
     "name": "stdout",
     "output_type": "stream",
     "text": [
      "[[-0.54472718]\n",
      " [ 0.35065687]\n",
      " [ 1.22671229]\n",
      " [ 1.8916048 ]\n",
      " [ 2.56494936]\n",
      " [ 3.2148678 ]\n",
      " [ 3.8220983 ]\n",
      " [ 4.4091553 ]\n",
      " [ 4.85203026]\n",
      " [ 5.23110862]\n",
      " [ 5.6454469 ]\n",
      " [ 5.91079664]\n",
      " [ 6.13556489]]\n",
      "\n",
      "Predicciones\n",
      "\n",
      "Para edad de 26.0 -> mortalidad: 0.49\n",
      "Para edad de 67.0 -> mortalidad: 5.05\n"
     ]
    }
   ],
   "source": [
    "# ln(mortality) vs x\n",
    "model_2 = LinearRegression()\n",
    "lnmort = np.log(mort)\n",
    "model_2.fit(age, lnmort)\n",
    "print(lnmort)\n",
    "\n",
    "#ecuacion\n",
    "coef_b = round(model_2.intercept_[0],4)\n",
    "coef_a = round(model_2.coef_[0][0],4)\n",
    "\n",
    "\n",
    "# Predicciones\n",
    "print('\\nPredicciones\\n')\n",
    "y1_test = model_2.predict([[26.0]])[0][0]\n",
    "print('Para edad de 26.0 -> mortalidad: ' + str(round(y1_test,2)))\n",
    "\n",
    "y2_test = model_2.predict([[67.0]])[0][0]\n",
    "print('Para edad de 67.0 -> mortalidad: ' + str(round(y2_test,2)))"
   ]
  },
  {
   "cell_type": "code",
   "execution_count": 122,
   "metadata": {},
   "outputs": [
    {
     "name": "stdout",
     "output_type": "stream",
     "text": [
      "R-Squared:  0.97202\n",
      "Equation: lnmort = 5.3456*age + (-17.3468)\n"
     ]
    },
    {
     "data": {
      "image/png": "[encoded data removed]",
      "text/plain": [
       "<Figure size 432x288 with 1 Axes>"
      ]
     },
     "metadata": {
      "needs_background": "light"
     },
     "output_type": "display_data"
    }
   ],
   "source": [
    "#dibujando\n",
    "plt.title('LnY vs X')\n",
    "plt.xlabel('Age')\n",
    "plt.ylabel('Ln(mortality)')\n",
    "plt.plot(age,lnmort,'k.')\n",
    "plt.axis([20,90,0, 10])\n",
    "plt.grid(True)\n",
    "extreme_ages = [[0],[90]]\n",
    "plt.plot(extreme_ages, model_2.predict(extreme_ages), color='r')\n",
    "\n",
    "\n",
    "# Hallando el R-Squared para comprobar\n",
    "rSquared_2 = model_2.score(age, lnmort)\n",
    "print('R-Squared:  %.5f' % rSquared_2)\n",
    "print('Equation: lnmort = '+ str(coef_a) + '*age + ('+str(coef_b)+')')  \n",
    "a2 = coef_a\n",
    "b2 = coef_b"
   ]
  },
  {
   "cell_type": "markdown",
   "metadata": {},
   "source": [
    "### LnY vs LnX\n"
   ]
  },
  {
   "cell_type": "code",
   "execution_count": 71,
   "metadata": {},
   "outputs": [
    {
     "name": "stdout",
     "output_type": "stream",
     "text": [
      "[[3.11351531]\n",
      " [3.314186  ]\n",
      " [3.48124009]\n",
      " [3.62434093]\n",
      " [3.74950408]\n",
      " [3.86072971]\n",
      " [3.96081317]\n",
      " [4.05178495]\n",
      " [4.13516656]\n",
      " [4.2121276 ]\n",
      " [4.28358656]\n",
      " [4.35027794]\n",
      " [4.41279829]]\n",
      "\n",
      "Predicciones\n",
      "\n",
      "Para ln(16.0) -> ln(mortalidad): -6.66\n",
      "Para ln(54.0) -> ln(mortalidad:) 4.04\n"
     ]
    }
   ],
   "source": [
    "# ln(mortality) vs ln(age)\n",
    "model_3 = LinearRegression()\n",
    "ln_age = np.log(age)\n",
    "model_3.fit(ln_age, lnmort)\n",
    "print(ln_age)\n",
    "#ecuacion\n",
    "coef_b = round(model_3.intercept_[0],4)\n",
    "coef_a = round(model_3.coef_[0][0],4)\n",
    "\n",
    "\n",
    "# Predicciones\n",
    "print('\\nPredicciones\\n')\n",
    "y1_test = model_3.predict([[2.0]])[0][0]\n",
    "print('Para ln(16.0) -> ln(mortalidad): ' + str(round(y1_test,2)))\n",
    "\n",
    "y2_test = model_3.predict([[4.0]])[0][0]\n",
    "print('Para ln(54.0) -> ln(mortalidad:) ' + str(round(y2_test,2)))"
   ]
  },
  {
   "cell_type": "code",
   "execution_count": 121,
   "metadata": {},
   "outputs": [
    {
     "name": "stdout",
     "output_type": "stream",
     "text": [
      "R-Squared:  0.99810\n",
      "Equation: lnmort = 5.3456*lnage + (-17.3468)\n"
     ]
    },
    {
     "data": {
      "image/png": "[encoded data removed]",
      "text/plain": [
       "<Figure size 432x288 with 1 Axes>"
      ]
     },
     "metadata": {
      "needs_background": "light"
     },
     "output_type": "display_data"
    }
   ],
   "source": [
    "#dibujando\n",
    "plt.title('LnY vs LnX')\n",
    "plt.xlabel('Ln(age)')\n",
    "plt.ylabel('Ln(mortality)')\n",
    "plt.plot(ln_age,lnmort,'k.')\n",
    "plt.axis([3,4.5,0, 10])\n",
    "plt.grid(True)\n",
    "extreme_ages = [[0],[90]]\n",
    "plt.plot(extreme_ages, model_3.predict(extreme_ages), color='r')\n",
    "\n",
    "\n",
    "# Hallando el R-Squared para comprobar\n",
    "rSquared_3 = model_3.score(ln_age, lnmort)\n",
    "print('R-Squared:  %.5f' % rSquared_3)\n",
    "print('Equation: lnmort = '+ str(coef_a) + '*lnage + ('+str(coef_b)+')')\n",
    "\n",
    "a1 = coef_a\n",
    "b1 = coef_b"
   ]
  },
  {
   "cell_type": "code",
   "execution_count": 105,
   "metadata": {
    "scrolled": true
   },
   "outputs": [
    {
     "data": {
      "image/png": "[encoded data removed]",
      "text/plain": [
       "<Figure size 576x360 with 1 Axes>"
      ]
     },
     "metadata": {
      "needs_background": "light"
     },
     "output_type": "display_data"
    }
   ],
   "source": [
    "rSquares = [rSquared_1, rSquared_2, rSquared_3]\n",
    "plt.figure(figsize=(8,5))\n",
    "plt.grid(True)\n",
    "plt.bar(x=[l*0.3 for l in range(3)], height=rSquares, width=0.1, tick_label=['Y_X', 'LnY_X', 'LnY_LnX'])\n",
    "plt.show()"
   ]
  },
  {
   "cell_type": "code",
   "execution_count": 120,
   "metadata": {},
   "outputs": [
    {
     "name": "stdout",
     "output_type": "stream",
     "text": [
      "Podemos notar que la mejor regresion es LnY_LnX\n",
      "Además, el R^2 es 99.8% cuya ecuación es:\n",
      "\n",
      "lnmort = 5.3456*lnage + (-17.3468)\n",
      "\n",
      "Siendo los parámetros:\n",
      "Slope: \t\t5.35\n",
      "Intercept:\t-17.35\n"
     ]
    }
   ],
   "source": [
    "print('Podemos notar que la mejor regresion es LnY_LnX')\n",
    "print('Además, el R^2 es 99.8% cuya ecuación es:\\n')\n",
    "print('lnmort = '+ str(coef_a) + '*lnage + ('+str(coef_b)+')')\n",
    "print('\\nSiendo los parámetros:')\n",
    "print('Slope: \\t\\t'+ str(round(coef_a,2)) )\n",
    "print('Intercept:\\t'+ str(round(coef_b,2)) )"
   ]
  },
  {
   "cell_type": "markdown",
   "metadata": {},
   "source": [
    "### Prediciendo valores / intervalos.\n",
    "Para ello es necesario almacenar los parámetros de los dos modelos a comparar a1 b1 para LnY vs LnX  y a2 b2 para LnY vs X\n"
   ]
  },
  {
   "cell_type": "code",
   "execution_count": 191,
   "metadata": {},
   "outputs": [
    {
     "name": "stdout",
     "output_type": "stream",
     "text": [
      "lnY vs lnX\n",
      "a1:5.3456 b1: -17.3468\n",
      "\n",
      "lnY vs X\n",
      "a2:5.3456 b2: -17.3468\n",
      "\n",
      "Entrada de modelo1:\n",
      "[[3.1135]\n",
      " [3.6243]\n",
      " [3.7495]\n",
      " [4.1352]\n",
      " [4.2121]]\n",
      "[[-0.5447]\n",
      " [ 1.8916]\n",
      " [ 2.5649]\n",
      " [ 4.852 ]\n",
      " [ 5.2311]]\n",
      "\n",
      "Entrada de modelo2:\n",
      "[[22.5]\n",
      " [37.5]\n",
      " [42.5]\n",
      " [62.5]\n",
      " [67.5]]\n"
     ]
    }
   ],
   "source": [
    "print('lnY vs lnX')\n",
    "print('a1:'+str(a1)+' b1: '+str(b1))\n",
    "print('\\nlnY vs X')\n",
    "print('a2:'+str(a2)+' b2: '+str(b2))\n",
    "\n",
    "\n",
    "#Probaremos con 5 edades de las que ya tenemos los valores esperados.\n",
    "in_test = [[22.5],[37.5],[42.5],[62.5],[67.5]]\n",
    "mort_esperada = [[0.58],[6.63],[13.0],[128.],[187.]]\n",
    "\n",
    "\n",
    "#Modelo1 LnY_LnX\n",
    "x1 = np.round(np.log(in_test),4)\n",
    "y1 = np.round(np.log(mort_esperada),4)\n",
    "#La entrada para el segundo modelo LnY vs X es diferente\n",
    "x2 = np.asarray(in_test)\n",
    "y2 = y1\n",
    "\n",
    "print('\\nEntrada de modelo1:')\n",
    "print(x1)\n",
    "print(y1)\n",
    "print('\\nEntrada de modelo2:')\n",
    "print(x2)\n",
    "\n"
   ]
  },
  {
   "cell_type": "code",
   "execution_count": 199,
   "metadata": {},
   "outputs": [
    {
     "name": "stdout",
     "output_type": "stream",
     "text": [
      "RSS: 0.07\n",
      "RSS: 0.59\n",
      "STDV1 : 0.16\n",
      "STDV2 : 0.44\n"
     ]
    }
   ],
   "source": [
    "#Para hallar el radio del intervalo es necesario el rss\n",
    "#Modelo LnY_LnX model_3\n",
    "p_y1 = model_3.predict(x1)\n",
    "rss_1  = np.sum((np.ravel(y1) - np.ravel(p_y1))**2)\n",
    "print('RSS: %.2f' %rss_1)\n",
    "\n",
    "#Modelo LnY_X model_2\n",
    "p_y2 = model_2.predict(x2)\n",
    "rss_2  = np.sum((np.ravel(y2) - np.ravel(p_y2))**2)\n",
    "print('RSS: %.2f' %rss_2)\n",
    "\n",
    "#Desviaciones\n",
    "stdv_1 = np.sqrt(1/(len(y1)-2)*rss_1)\n",
    "print('STDV1 : %.2f' %stdv_1)\n",
    "stdv_2 = np.sqrt(1/(len(y2)-2)*rss_2)\n",
    "print('STDV2 : %.2f' %stdv_2)\n",
    "\n",
    "\n",
    "#Calculando el intervalo de predicción\n",
    "inter_1 = 1.96*stdv_1\n",
    "inter_2 = 1.96*stdv_2\n",
    "\n",
    "\n",
    "low_1 = np.round(y1 - inter_1,3)\n",
    "upp_1 = np.round(y1 + inter_1,3)\n",
    "\n",
    "low_2 = np.round(y2 - inter_2,3)\n",
    "upp_2 = np.round(y2 + inter_2,3)"
   ]
  },
  {
   "cell_type": "code",
   "execution_count": 206,
   "metadata": {},
   "outputs": [
    {
     "name": "stdout",
     "output_type": "stream",
     "text": [
      "MODELO LNY VS LNX\n",
      "    Entrada   Esperado Predecido     desde     hasta\n",
      "0  [3.1135]  [-0.5447]  [-0.703]  [-0.851]  [-0.238]\n",
      "1  [3.6243]   [1.8916]   [2.027]   [1.585]   [2.198]\n",
      "2  [3.7495]   [2.5649]   [2.696]   [2.258]   [2.872]\n",
      "3  [4.1352]    [4.852]   [4.758]   [4.545]   [5.159]\n",
      "4  [4.2121]   [5.2311]   [5.169]   [4.924]   [5.538]\n",
      "\n",
      "MODELO LNY VS X\n",
      "  Entrada   Esperado Predecido     desde    hasta\n",
      "0  [22.5]  [-0.5447]   [0.098]  [-1.414]  [0.324]\n",
      "1  [37.5]   [1.8916]   [1.769]   [1.022]  [2.761]\n",
      "2  [42.5]   [2.5649]   [2.326]   [1.696]  [3.434]\n",
      "3  [62.5]    [4.852]   [4.553]   [3.983]  [5.721]\n",
      "4  [67.5]   [5.2311]    [5.11]   [4.362]    [6.1]\n"
     ]
    }
   ],
   "source": [
    "#Crearemos un dataframe para los valores del primero\n",
    "\n",
    "print('MODELO LNY VS LNX')\n",
    "labels = ['Entrada', 'Esperado', 'Predecido','desde','hasta']\n",
    "df_model1 = pd.DataFrame(zip(x1,y1,np.round(p_y1,3),low_1,upp_1), columns=labels)\n",
    "print(df_model1)\n",
    "\n",
    "print('\\nMODELO LNY VS X')\n",
    "#Crearemos un dataframe para los valores del primero\n",
    "df_model2 = pd.DataFrame(zip(x2,y2,np.round(p_y2,3),low_2,upp_2), columns=labels)\n",
    "print(df_model2)"
   ]
  }
 ],
 "metadata": {
  "kernelspec": {
   "display_name": "Python 3",
   "language": "python",
   "name": "python3"
  },
  "language_info": {
   "codemirror_mode": {
    "name": "ipython",
    "version": 3
   },
   "file_extension": ".py",
   "mimetype": "text/x-python",
   "name": "python",
   "nbconvert_exporter": "python",
   "pygments_lexer": "ipython3",
   "version": "3.7.3"
  }
 },
 "nbformat": 4,
 "nbformat_minor": 2
}
